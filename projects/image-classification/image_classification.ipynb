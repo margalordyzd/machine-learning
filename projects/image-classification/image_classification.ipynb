{
 "cells": [
  {
   "cell_type": "markdown",
   "metadata": {
    "collapsed": true
   },
   "source": [
    "# Image Classification\n",
    "In this project, you'll classify images from the [CIFAR-10 dataset](https://www.cs.toronto.edu/~kriz/cifar.html).  The dataset consists of airplanes, dogs, cats, and other objects. You'll preprocess the images, then train a convolutional neural network on all the samples. The images need to be normalized and the labels need to be one-hot encoded.  You'll get to apply what you learned and build a convolutional, max pooling, dropout, and fully connected layers.  At the end, you'll get to see your neural network's predictions on the sample images.\n",
    "## Get the Data\n",
    "Run the following cell to download the [CIFAR-10 dataset for python](https://www.cs.toronto.edu/~kriz/cifar-10-python.tar.gz)."
   ]
  },
  {
   "cell_type": "code",
   "execution_count": 2,
   "metadata": {},
   "outputs": [
    {
     "name": "stdout",
     "output_type": "stream",
     "text": [
      "All files found!\n"
     ]
    }
   ],
   "source": [
    "\"\"\"\n",
    "DON'T MODIFY ANYTHING IN THIS CELL THAT IS BELOW THIS LINE\n",
    "\"\"\"\n",
    "from urllib.request import urlretrieve\n",
    "from os.path import isfile, isdir\n",
    "from tqdm import tqdm\n",
    "import problem_unittests as tests\n",
    "import tarfile\n",
    "\n",
    "cifar10_dataset_folder_path = 'cifar-10-batches-py'\n",
    "\n",
    "class DLProgress(tqdm):\n",
    "    last_block = 0\n",
    "\n",
    "    def hook(self, block_num=1, block_size=1, total_size=None):\n",
    "        self.total = total_size\n",
    "        self.update((block_num - self.last_block) * block_size)\n",
    "        self.last_block = block_num\n",
    "\n",
    "if not isfile('cifar-10-python.tar.gz'):\n",
    "    with DLProgress(unit='B', unit_scale=True, miniters=1, desc='CIFAR-10 Dataset') as pbar:\n",
    "        urlretrieve(\n",
    "            'https://www.cs.toronto.edu/~kriz/cifar-10-python.tar.gz',\n",
    "            'cifar-10-python.tar.gz',\n",
    "            pbar.hook)\n",
    "\n",
    "if not isdir(cifar10_dataset_folder_path):\n",
    "    with tarfile.open('cifar-10-python.tar.gz') as tar:\n",
    "        tar.extractall()\n",
    "        tar.close()\n",
    "\n",
    "\n",
    "tests.test_folder_path(cifar10_dataset_folder_path)"
   ]
  },
  {
   "cell_type": "markdown",
   "metadata": {},
   "source": [
    "## Explore the Data\n",
    "The dataset is broken into batches to prevent your machine from running out of memory.  The CIFAR-10 dataset consists of 5 batches, named `data_batch_1`, `data_batch_2`, etc.. Each batch contains the labels and images that are one of the following:\n",
    "* airplane\n",
    "* automobile\n",
    "* bird\n",
    "* cat\n",
    "* deer\n",
    "* dog\n",
    "* frog\n",
    "* horse\n",
    "* ship\n",
    "* truck\n",
    "\n",
    "Understanding a dataset is part of making predictions on the data.  Play around with the code cell below by changing the `batch_id` and `sample_id`. The `batch_id` is the id for a batch (1-5). The `sample_id` is the id for a image and label pair in the batch.\n",
    "\n",
    "Ask yourself \"What are all possible labels?\", \"What is the range of values for the image data?\", \"Are the labels in order or random?\".  Answers to questions like these will help you preprocess the data and end up with better predictions."
   ]
  },
  {
   "cell_type": "code",
   "execution_count": 2,
   "metadata": {},
   "outputs": [
    {
     "ename": "NameError",
     "evalue": "name 'cifar10_dataset_folder_path' is not defined",
     "output_type": "error",
     "traceback": [
      "\u001b[0;31m---------------------------------------------------------------------------\u001b[0m",
      "\u001b[0;31mNameError\u001b[0m                                 Traceback (most recent call last)",
      "\u001b[0;32m<ipython-input-2-a31ed0a45e0a>\u001b[0m in \u001b[0;36m<module>\u001b[0;34m()\u001b[0m\n\u001b[1;32m      8\u001b[0m \u001b[0mbatch_id\u001b[0m \u001b[0;34m=\u001b[0m \u001b[0;36m5\u001b[0m\u001b[0;34m\u001b[0m\u001b[0m\n\u001b[1;32m      9\u001b[0m \u001b[0msample_id\u001b[0m \u001b[0;34m=\u001b[0m \u001b[0;36m80\u001b[0m\u001b[0;34m\u001b[0m\u001b[0m\n\u001b[0;32m---> 10\u001b[0;31m \u001b[0mhelper\u001b[0m\u001b[0;34m.\u001b[0m\u001b[0mdisplay_stats\u001b[0m\u001b[0;34m(\u001b[0m\u001b[0mcifar10_dataset_folder_path\u001b[0m\u001b[0;34m,\u001b[0m \u001b[0mbatch_id\u001b[0m\u001b[0;34m,\u001b[0m \u001b[0msample_id\u001b[0m\u001b[0;34m)\u001b[0m\u001b[0;34m\u001b[0m\u001b[0m\n\u001b[0m",
      "\u001b[0;31mNameError\u001b[0m: name 'cifar10_dataset_folder_path' is not defined"
     ]
    }
   ],
   "source": [
    "%matplotlib inline\n",
    "%config InlineBackend.figure_format = 'retina'\n",
    "\n",
    "import helper\n",
    "import numpy as np\n",
    "\n",
    "# Explore the dataset\n",
    "batch_id = 5\n",
    "sample_id = 80\n",
    "helper.display_stats(cifar10_dataset_folder_path, batch_id, sample_id)"
   ]
  },
  {
   "cell_type": "markdown",
   "metadata": {},
   "source": [
    "## Implement Preprocess Functions\n",
    "### Normalize\n",
    "In the cell below, implement the `normalize` function to take in image data, `x`, and return it as a normalized Numpy array. The values should be in the range of 0 to 1, inclusive.  The return object should be the same shape as `x`."
   ]
  },
  {
   "cell_type": "code",
   "execution_count": 23,
   "metadata": {},
   "outputs": [
    {
     "name": "stdout",
     "output_type": "stream",
     "text": [
      "Tests Passed\n"
     ]
    }
   ],
   "source": [
    "def normalize(x):\n",
    "    \"\"\"\n",
    "    Normalize a list of sample image data in the range of 0 to 1\n",
    "    : x: List of image data.  The image shape is (32, 32, 3)\n",
    "    : return: Numpy array of normalize data\n",
    "    \"\"\"\n",
    "    # TODO: Implement Function\n",
    "    return x/255.\n",
    "\n",
    "\n",
    "\"\"\"\n",
    "DON'T MODIFY ANYTHING IN THIS CELL THAT IS BELOW THIS LINE\n",
    "\"\"\"\n",
    "tests.test_normalize(normalize)"
   ]
  },
  {
   "cell_type": "markdown",
   "metadata": {},
   "source": [
    "### One-hot encode\n",
    "Just like the previous code cell, you'll be implementing a function for preprocessing.  This time, you'll implement the `one_hot_encode` function. The input, `x`, are a list of labels.  Implement the function to return the list of labels as One-Hot encoded Numpy array.  The possible values for labels are 0 to 9. The one-hot encoding function should return the same encoding for each value between each call to `one_hot_encode`.  Make sure to save the map of encodings outside the function.\n",
    "\n",
    "**Hint:**\n",
    "\n",
    "Look into LabelBinarizer in the preprocessing module of sklearn."
   ]
  },
  {
   "cell_type": "code",
   "execution_count": 140,
   "metadata": {},
   "outputs": [
    {
     "name": "stdout",
     "output_type": "stream",
     "text": [
      "Tests Passed\n"
     ]
    }
   ],
   "source": [
    "\n",
    "def one_hot_encode(x):\n",
    "    \"\"\"\n",
    "    One hot encode a list of sample labels. Return a one-hot encoded vector for each label.\n",
    "    : x: List of sample Labels\n",
    "    : return: Numpy array of one-hot encoded labels\n",
    "    \"\"\"\n",
    "    # TODO: Implement Function\n",
    "    cathegories = [0,1,2,3,4,5,6,7,8,9]\n",
    "    x_encoded = [[1 if i == r else 0 for r in cathegories] for i in x]\n",
    "\n",
    "    return np.array(x_encoded)\n",
    "\n",
    "\n",
    "\"\"\"\n",
    "DON'T MODIFY ANYTHING IN THIS CELL THAT IS BELOW THIS LINE\n",
    "\"\"\"\n",
    "tests.test_one_hot_encode(one_hot_encode)"
   ]
  },
  {
   "cell_type": "markdown",
   "metadata": {},
   "source": [
    "### Randomize Data\n",
    "As you saw from exploring the data above, the order of the samples are randomized.  It doesn't hurt to randomize it again, but you don't need to for this dataset."
   ]
  },
  {
   "cell_type": "markdown",
   "metadata": {},
   "source": [
    "## Preprocess all the data and save it\n",
    "Running the code cell below will preprocess all the CIFAR-10 data and save it to file. The code below also uses 10% of the training data for validation."
   ]
  },
  {
   "cell_type": "code",
   "execution_count": 141,
   "metadata": {
    "collapsed": true
   },
   "outputs": [],
   "source": [
    "\"\"\"\n",
    "DON'T MODIFY ANYTHING IN THIS CELL\n",
    "\"\"\"\n",
    "# Preprocess Training, Validation, and Testing Data\n",
    "helper.preprocess_and_save_data(cifar10_dataset_folder_path, normalize, one_hot_encode)"
   ]
  },
  {
   "cell_type": "markdown",
   "metadata": {},
   "source": [
    "# Check Point\n",
    "This is your first checkpoint.  If you ever decide to come back to this notebook or have to restart the notebook, you can start from here.  The preprocessed data has been saved to disk."
   ]
  },
  {
   "cell_type": "code",
   "execution_count": 1,
   "metadata": {
    "collapsed": true
   },
   "outputs": [],
   "source": [
    "\"\"\"\n",
    "DON'T MODIFY ANYTHING IN THIS CELL\n",
    "\"\"\"\n",
    "import pickle\n",
    "import problem_unittests as tests\n",
    "import helper\n",
    "\n",
    "# Load the Preprocessed Validation data\n",
    "valid_features, valid_labels = pickle.load(open('/input/preprocess_validation.p', mode='rb'))"
   ]
  },
  {
   "cell_type": "markdown",
   "metadata": {},
   "source": [
    "## Build the network\n",
    "For the neural network, you'll build each layer into a function.  Most of the code you've seen has been outside of functions. To test your code more thoroughly, we require that you put each layer in a function.  This allows us to give you better feedback and test for simple mistakes using our unittests before you submit your project.\n",
    "\n",
    ">**Note:** If you're finding it hard to dedicate enough time for this course each week, we've provided a small shortcut to this part of the project. In the next couple of problems, you'll have the option to use classes from the [TensorFlow Layers](https://www.tensorflow.org/api_docs/python/tf/layers) or [TensorFlow Layers (contrib)](https://www.tensorflow.org/api_guides/python/contrib.layers) packages to build each layer, except the layers you build in the \"Convolutional and Max Pooling Layer\" section.  TF Layers is similar to Keras's and TFLearn's abstraction to layers, so it's easy to pickup.\n",
    "\n",
    ">However, if you would like to get the most out of this course, try to solve all the problems _without_ using anything from the TF Layers packages. You **can** still use classes from other packages that happen to have the same name as ones you find in TF Layers! For example, instead of using the TF Layers version of the `conv2d` class, [tf.layers.conv2d](https://www.tensorflow.org/api_docs/python/tf/layers/conv2d), you would want to use the TF Neural Network version of `conv2d`, [tf.nn.conv2d](https://www.tensorflow.org/api_docs/python/tf/nn/conv2d). \n",
    "\n",
    "Let's begin!\n",
    "\n",
    "### Input\n",
    "The neural network needs to read the image data, one-hot encoded labels, and dropout keep probability. Implement the following functions\n",
    "* Implement `neural_net_image_input`\n",
    " * Return a [TF Placeholder](https://www.tensorflow.org/api_docs/python/tf/placeholder)\n",
    " * Set the shape using `image_shape` with batch size set to `None`.\n",
    " * Name the TensorFlow placeholder \"x\" using the TensorFlow `name` parameter in the [TF Placeholder](https://www.tensorflow.org/api_docs/python/tf/placeholder).\n",
    "* Implement `neural_net_label_input`\n",
    " * Return a [TF Placeholder](https://www.tensorflow.org/api_docs/python/tf/placeholder)\n",
    " * Set the shape using `n_classes` with batch size set to `None`.\n",
    " * Name the TensorFlow placeholder \"y\" using the TensorFlow `name` parameter in the [TF Placeholder](https://www.tensorflow.org/api_docs/python/tf/placeholder).\n",
    "* Implement `neural_net_keep_prob_input`\n",
    " * Return a [TF Placeholder](https://www.tensorflow.org/api_docs/python/tf/placeholder) for dropout keep probability.\n",
    " * Name the TensorFlow placeholder \"keep_prob\" using the TensorFlow `name` parameter in the [TF Placeholder](https://www.tensorflow.org/api_docs/python/tf/placeholder).\n",
    "\n",
    "These names will be used at the end of the project to load your saved model.\n",
    "\n",
    "Note: `None` for shapes in TensorFlow allow for a dynamic size."
   ]
  },
  {
   "cell_type": "code",
   "execution_count": 2,
   "metadata": {
    "collapsed": true
   },
   "outputs": [],
   "source": [
    "import tensorflow as tf"
   ]
  },
  {
   "cell_type": "code",
   "execution_count": 3,
   "metadata": {},
   "outputs": [
    {
     "name": "stdout",
     "output_type": "stream",
     "text": [
      "Image Input Tests Passed.\n",
      "Label Input Tests Passed.\n",
      "Keep Prob Tests Passed.\n"
     ]
    }
   ],
   "source": [
    "import tensorflow as tf\n",
    "\n",
    "def neural_net_image_input(image_shape):\n",
    "    \"\"\"\n",
    "    Return a Tensor for a batch of image input\n",
    "    : image_shape: Shape of the images\n",
    "    : return: Tensor for image input.\n",
    "    \"\"\"\n",
    "    # TODO: Implement Function\n",
    "    return tf.placeholder(tf.float32,[None]+list(image_shape),'x')\n",
    "\n",
    "\n",
    "def neural_net_label_input(n_classes):\n",
    "    \"\"\"\n",
    "    Return a Tensor for a batch of label input\n",
    "    : n_classes: Number of classes\n",
    "    : return: Tensor for label input.\n",
    "    \"\"\"\n",
    "    # TODO: Implement Function\n",
    "    return tf.placeholder(tf.float32,[None]+[n_classes],'y')\n",
    "\n",
    "\n",
    "def neural_net_keep_prob_input():\n",
    "    \"\"\"\n",
    "    Return a Tensor for keep probability\n",
    "    : return: Tensor for keep probability.\n",
    "    \"\"\"\n",
    "    # TODO: Implement Function\n",
    "    return tf.placeholder(tf.float32,name='keep_prob')\n",
    "\n",
    "\n",
    "\"\"\"\n",
    "DON'T MODIFY ANYTHING IN THIS CELL THAT IS BELOW THIS LINE\n",
    "\"\"\"\n",
    "tf.reset_default_graph()\n",
    "tests.test_nn_image_inputs(neural_net_image_input)\n",
    "tests.test_nn_label_inputs(neural_net_label_input)\n",
    "tests.test_nn_keep_prob_inputs(neural_net_keep_prob_input)"
   ]
  },
  {
   "cell_type": "markdown",
   "metadata": {},
   "source": [
    "### Convolution and Max Pooling Layer\n",
    "Convolution layers have a lot of success with images. For this code cell, you should implement the function `conv2d_maxpool` to apply convolution then max pooling:\n",
    "* Create the weight and bias using `conv_ksize`, `conv_num_outputs` and the shape of `x_tensor`.\n",
    "* Apply a convolution to `x_tensor` using weight and `conv_strides`.\n",
    " * We recommend you use same padding, but you're welcome to use any padding.\n",
    "* Add bias\n",
    "* Add a nonlinear activation to the convolution.\n",
    "* Apply Max Pooling using `pool_ksize` and `pool_strides`.\n",
    " * We recommend you use same padding, but you're welcome to use any padding.\n",
    "\n",
    "**Note:** You **can't** use [TensorFlow Layers](https://www.tensorflow.org/api_docs/python/tf/layers) or [TensorFlow Layers (contrib)](https://www.tensorflow.org/api_guides/python/contrib.layers) for **this** layer, but you can still use TensorFlow's [Neural Network](https://www.tensorflow.org/api_docs/python/tf/nn) package. You may still use the shortcut option for all the **other** layers.\n",
    "\n",
    "** Hint: **\n",
    "\n",
    "When unpacking values as an argument in Python, look into the [unpacking](https://docs.python.org/3/tutorial/controlflow.html#unpacking-argument-lists) operator. "
   ]
  },
  {
   "cell_type": "code",
   "execution_count": 4,
   "metadata": {},
   "outputs": [
    {
     "name": "stdout",
     "output_type": "stream",
     "text": [
      "Tests Passed\n"
     ]
    }
   ],
   "source": [
    "def conv2d_maxpool(x_tensor, conv_num_outputs, conv_ksize, conv_strides, pool_ksize, pool_strides):\n",
    "    \"\"\"\n",
    "    Apply convolution then max pooling to x_tensor\n",
    "    :param x_tensor: TensorFlow Tensor\n",
    "    :param conv_num_outputs: Number of outputs for the convolutional layer\n",
    "    :param conv_ksize: kernal size 2-D Tuple for the convolutional layer\n",
    "    :param conv_strides: Stride 2-D Tuple for convolution\n",
    "    :param pool_ksize: kernal size 2-D Tuple for pool\n",
    "    :param pool_strides: Stride 2-D Tuple for pool\n",
    "    : return: A tensor that represents convolution and max pooling of x_tensor\n",
    "    \"\"\"\n",
    "    # TODO: Implement Function\n",
    "    depth = x_tensor.get_shape().as_list()\n",
    " \n",
    "    shape = list(conv_ksize + (depth[-1],) + (conv_num_outputs,))\n",
    "    \n",
    "    W = tf.Variable(tf.truncated_normal(shape,stddev=0.1))\n",
    "#     with tf.variable_scope(\"conv\", reuse=None):\n",
    "#         W = tf.get_variable(name = \"ww\",shape=shape,\n",
    "#                initializer=tf.contrib.layers.xavier_initializer())\n",
    "    b = tf.Variable(tf.zeros(conv_num_outputs))\n",
    "    x_tensor = tf.nn.conv2d(x_tensor,W, [1]+list(conv_strides)+[1],padding='SAME')\n",
    "    x_tensor = tf.nn.bias_add(x_tensor, b)\n",
    "    x_tensor = tf.nn.relu(x_tensor)\n",
    "    x_tensor = tf.nn.max_pool(x_tensor,[1]+list(conv_ksize)+[1],[1]+list(pool_strides)+[1],'SAME')\n",
    "    return x_tensor \n",
    "\n",
    "\n",
    "\"\"\"\n",
    "DON'T MODIFY ANYTHING IN THIS CELL THAT IS BELOW THIS LINE\n",
    "\"\"\"\n",
    "tests.test_con_pool(conv2d_maxpool)"
   ]
  },
  {
   "cell_type": "markdown",
   "metadata": {},
   "source": [
    "### Flatten Layer\n",
    "Implement the `flatten` function to change the dimension of `x_tensor` from a 4-D tensor to a 2-D tensor.  The output should be the shape (*Batch Size*, *Flattened Image Size*). Shortcut option: you can use classes from the [TensorFlow Layers](https://www.tensorflow.org/api_docs/python/tf/layers) or [TensorFlow Layers (contrib)](https://www.tensorflow.org/api_guides/python/contrib.layers) packages for this layer. For more of a challenge, only use other TensorFlow packages."
   ]
  },
  {
   "cell_type": "code",
   "execution_count": 5,
   "metadata": {},
   "outputs": [
    {
     "name": "stdout",
     "output_type": "stream",
     "text": [
      "Tests Passed\n"
     ]
    }
   ],
   "source": [
    "def flatten(x_tensor):\n",
    "    from numpy import prod\n",
    "    \"\"\"\n",
    "    Flatten x_tensor to (Batch Size, Flattened Image Size)\n",
    "    : x_tensor: A tensor of size (Batch Size, ...), where ... are the image dimensions.\n",
    "    : return: A tensor of size (Batch Size, Flattened Image Size).\n",
    "    \"\"\"\n",
    "    # TODO: Implement Function\n",
    "#     depth = x_tensor.get_shape().as_list()\n",
    "#     x_tensor = tf.reshape(x_tensor,[-1,prod(depth[1:])])\n",
    "    \n",
    "    return tf.contrib.layers.flatten(x_tensor)\n",
    "\n",
    "\n",
    "\"\"\"\n",
    "DON'T MODIFY ANYTHING IN THIS CELL THAT IS BELOW THIS LINE\n",
    "\"\"\"\n",
    "tests.test_flatten(flatten)"
   ]
  },
  {
   "cell_type": "markdown",
   "metadata": {},
   "source": [
    "### Fully-Connected Layer\n",
    "Implement the `fully_conn` function to apply a fully connected layer to `x_tensor` with the shape (*Batch Size*, *num_outputs*). Shortcut option: you can use classes from the [TensorFlow Layers](https://www.tensorflow.org/api_docs/python/tf/layers) or [TensorFlow Layers (contrib)](https://www.tensorflow.org/api_guides/python/contrib.layers) packages for this layer. For more of a challenge, only use other TensorFlow packages."
   ]
  },
  {
   "cell_type": "code",
   "execution_count": 6,
   "metadata": {},
   "outputs": [
    {
     "name": "stdout",
     "output_type": "stream",
     "text": [
      "Tests Passed\n"
     ]
    }
   ],
   "source": [
    "def fully_conn(x_tensor, num_outputs):\n",
    "    \"\"\"\n",
    "    Apply a fully connected layer to x_tensor using weight and bias\n",
    "    : x_tensor: A 2-D tensor where the first dimension is batch size.\n",
    "    : num_outputs: The number of output that the new tensor should be.\n",
    "    : return: A 2-D tensor where the second dimension is num_outputs.\n",
    "    \"\"\"\n",
    "#     # TODO: Implement Function\n",
    "#     depth = x_tensor.get_shape().as_list()\n",
    "#     print(depth)\n",
    "#     print(num_outputs)\n",
    "# #     W = tf.Variable(tf.random_normal(depth + num_outputs))\n",
    "#     x_tensor = tf.contrib.layers.fully_connected(x_tensor,num_outputs=num_outputs, activation_fn=tf.nn.relu,\n",
    "#                                                  biases_initializer=tf.zeros_initializer())\n",
    "    \n",
    "    \n",
    "    \n",
    "    depth = x_tensor.get_shape().as_list()\n",
    "    shape = list( (depth[-1],) + (num_outputs,))\n",
    "    #print(shape)\n",
    "    weight = tf.Variable(tf.truncated_normal(shape,stddev=0.1))\n",
    "#     with tf.variable_scope(\"conv\", reuse=None):\n",
    "#         weight = tf.get_variable(\"weight\", shape=shape,\n",
    "#                initializer=tf.contrib.layers.xavier_initializer())\n",
    "    bias = tf.Variable(tf.zeros(num_outputs))\n",
    "    return tf.nn.relu(tf.add(tf.matmul(x_tensor,weight), bias))\n",
    "\n",
    "\n",
    "\n",
    "\"\"\"\n",
    "DON'T MODIFY ANYTHING IN THIS CELL THAT IS BELOW THIS LINE\n",
    "\"\"\"\n",
    "tests.test_fully_conn(fully_conn)"
   ]
  },
  {
   "cell_type": "markdown",
   "metadata": {},
   "source": [
    "### Output Layer\n",
    "Implement the `output` function to apply a fully connected layer to `x_tensor` with the shape (*Batch Size*, *num_outputs*). Shortcut option: you can use classes from the [TensorFlow Layers](https://www.tensorflow.org/api_docs/python/tf/layers) or [TensorFlow Layers (contrib)](https://www.tensorflow.org/api_guides/python/contrib.layers) packages for this layer. For more of a challenge, only use other TensorFlow packages.\n",
    "\n",
    "**Note:** Activation, softmax, or cross entropy should **not** be applied to this."
   ]
  },
  {
   "cell_type": "code",
   "execution_count": 7,
   "metadata": {},
   "outputs": [
    {
     "name": "stdout",
     "output_type": "stream",
     "text": [
      "Tests Passed\n"
     ]
    }
   ],
   "source": [
    "def output(x_tensor, num_outputs):\n",
    "    \"\"\"\n",
    "    Apply a output layer to x_tensor using weight and bias\n",
    "    : x_tensor: A 2-D tensor where the first dimension is batch size.\n",
    "    : num_outputs: The number of output that the new tensor should be.\n",
    "    : return: A 2-D tensor where the second dimension is num_outputs.\n",
    "    \"\"\"\n",
    "    # TODO: Implement Function\n",
    "#     x_tensor = tf.contrib.layers.fully_connected(x_tensor,num_outputs=num_outputs, activation_fn=tf.nn.relu,\n",
    "#                                                  biases_initializer=tf.zeros_initializer())\n",
    "#     return x_tensor\n",
    "    depth = x_tensor.get_shape().as_list()\n",
    "    shape = list( (depth[-1],) + (num_outputs,))\n",
    "    #print(shape)\n",
    "    weight_o = tf.Variable(tf.truncated_normal(shape,stddev=0.1))\n",
    "    \n",
    "#     weight_o = tf.get_variable(\"weight_o\", shape=shape,\n",
    "#            initializer=tf.contrib.layers.xavier_initializer())\n",
    "    \n",
    "    bias = tf.Variable(tf.zeros(num_outputs))\n",
    "    return tf.add(tf.matmul(x_tensor,weight_o), bias)\n",
    "\n",
    "\n",
    "\"\"\"\n",
    "DON'T MODIFY ANYTHING IN THIS CELL THAT IS BELOW THIS LINE\n",
    "\"\"\"\n",
    "tests.test_output(output)"
   ]
  },
  {
   "cell_type": "markdown",
   "metadata": {},
   "source": [
    "### Create Convolutional Model\n",
    "Implement the function `conv_net` to create a convolutional neural network model. The function takes in a batch of images, `x`, and outputs logits.  Use the layers you created above to create this model:\n",
    "\n",
    "* Apply 1, 2, or 3 Convolution and Max Pool layers\n",
    "* Apply a Flatten Layer\n",
    "* Apply 1, 2, or 3 Fully Connected Layers\n",
    "* Apply an Output Layer\n",
    "* Return the output\n",
    "* Apply [TensorFlow's Dropout](https://www.tensorflow.org/api_docs/python/tf/nn/dropout) to one or more layers in the model using `keep_prob`. "
   ]
  },
  {
   "cell_type": "code",
   "execution_count": 8,
   "metadata": {},
   "outputs": [
    {
     "name": "stdout",
     "output_type": "stream",
     "text": [
      "Neural Network Built!\n"
     ]
    }
   ],
   "source": [
    "def conv_net(x, keep_prob):\n",
    "    \"\"\"\n",
    "    Create a convolutional neural network model\n",
    "    : x: Placeholder tensor that holds image data.\n",
    "    : keep_prob: Placeholder tensor that hold dropout keep probability.\n",
    "    : return: Tensor that represents logits\n",
    "    \"\"\"\n",
    "    # TODO: Apply 1, 2, or 3 Convolution and Max Pool layers\n",
    "    #    Play around with different number of outputs, kernel size and stride\n",
    "    # Function Definition from Above:\n",
    "    #    conv2d_maxpool(x_tensor, conv_num_outputs, conv_ksize, conv_strides, pool_ksize, pool_strides)\n",
    "    x = conv2d_maxpool(x, conv_num_outputs=18, conv_ksize=(4,4), conv_strides=(1,1), pool_ksize=(8,8),\n",
    "                       pool_strides=(1,1))\n",
    "#     x = tf.nn.relu(x)\n",
    "#     x = conv2d_maxpool(x, conv_num_outputs=128, conv_ksize=(4,4), conv_strides=(1,1), pool_ksize=(4,4),\n",
    "#                        pool_strides=(2,2))\n",
    "#     x = tf.nn.relu(x)\n",
    "#     x = conv2d_maxpool(x, conv_num_outputs=256, conv_ksize=(4,4), conv_strides=(1,1), pool_ksize=(4,4),\n",
    "#                        pool_strides=(2,2))\n",
    "#     x = conv2d_maxpool(x, conv_num_outputs=18, conv_ksize=(3,3), conv_strides=(1,1), pool_ksize=(6,6),\n",
    "#                        pool_strides=(1,1))\n",
    "    x = tf.nn.dropout(x, keep_prob)\n",
    "    # TODO: Apply a Flatten Layer\n",
    "    # Function Definition from Above:\n",
    "    #   flatten(x_tensor)\n",
    "    x = flatten(x)\n",
    "\n",
    "    # TODO: Apply 1, 2, or 3 Fully Connected Layers\n",
    "    #    Play around with different number of outputs\n",
    "    # Function Definition from Above:\n",
    "    #   fully_conn(x_tensor, num_outputs)\n",
    "    x = fully_conn(x,256)\n",
    "#     x = fully_conn(x,255)\n",
    "    x = tf.nn.dropout(x, keep_prob)\n",
    "    # TODO: Apply an Output Layer\n",
    "    #    Set this to the number of classes\n",
    "    # Function Definition from Above:\n",
    "    #   output(x_tensor, num_outputs)\n",
    "    x=output(x,10)\n",
    "    \n",
    "    # TODO: return output\n",
    "    return x\n",
    "\n",
    "\n",
    "\"\"\"\n",
    "DON'T MODIFY ANYTHING IN THIS CELL THAT IS BELOW THIS LINE\n",
    "\"\"\"\n",
    "\n",
    "##############################\n",
    "## Build the Neural Network ##\n",
    "##############################\n",
    "\n",
    "# Remove previous weights, bias, inputs, etc..\n",
    "tf.reset_default_graph()\n",
    "\n",
    "# Inputs\n",
    "x = neural_net_image_input((32, 32, 3))\n",
    "y = neural_net_label_input(10)\n",
    "keep_prob = neural_net_keep_prob_input()\n",
    "\n",
    "# Model\n",
    "logits = conv_net(x, keep_prob)\n",
    "\n",
    "# Name logits Tensor, so that is can be loaded from disk after training\n",
    "logits = tf.identity(logits, name='logits')\n",
    "\n",
    "# Loss and Optimizer\n",
    "cost = tf.reduce_mean(tf.nn.softmax_cross_entropy_with_logits(logits=logits, labels=y))\n",
    "optimizer = tf.train.AdamOptimizer().minimize(cost)\n",
    "\n",
    "# Accuracy\n",
    "correct_pred = tf.equal(tf.argmax(logits, 1), tf.argmax(y, 1))\n",
    "accuracy = tf.reduce_mean(tf.cast(correct_pred, tf.float32), name='accuracy')\n",
    "\n",
    "tests.test_conv_net(conv_net)"
   ]
  },
  {
   "cell_type": "markdown",
   "metadata": {},
   "source": [
    "## Train the Neural Network\n",
    "### Single Optimization\n",
    "Implement the function `train_neural_network` to do a single optimization.  The optimization should use `optimizer` to optimize in `session` with a `feed_dict` of the following:\n",
    "* `x` for image input\n",
    "* `y` for labels\n",
    "* `keep_prob` for keep probability for dropout\n",
    "\n",
    "This function will be called for each batch, so `tf.global_variables_initializer()` has already been called.\n",
    "\n",
    "Note: Nothing needs to be returned. This function is only optimizing the neural network."
   ]
  },
  {
   "cell_type": "code",
   "execution_count": 9,
   "metadata": {},
   "outputs": [
    {
     "data": {
      "text/plain": [
       "0.0"
      ]
     },
     "execution_count": 9,
     "metadata": {},
     "output_type": "execute_result"
    }
   ],
   "source": [
    "4//80."
   ]
  },
  {
   "cell_type": "code",
   "execution_count": 10,
   "metadata": {},
   "outputs": [
    {
     "name": "stdout",
     "output_type": "stream",
     "text": [
      "Tests Passed\n"
     ]
    }
   ],
   "source": [
    "def train_neural_network(session, optimizer, keep_probability, feature_batch, label_batch):\n",
    "    \"\"\"\n",
    "    Optimize the session on a batch of images and labels\n",
    "    : session: Current TensorFlow session\n",
    "    : optimizer: TensorFlow optimizer function\n",
    "    : keep_probability: keep probability\n",
    "    : feature_batch: Batch of Numpy image data\n",
    "    : label_batch: Batch of Numpy label data\n",
    "    \"\"\"\n",
    "    # TODO: Implement Function\n",
    "    session.run(optimizer, feed_dict={x: feature_batch, y: label_batch, keep_prob: keep_probability})\n",
    "\n",
    "    \n",
    "    pass\n",
    "\n",
    "\n",
    "\"\"\"\n",
    "DON'T MODIFY ANYTHING IN THIS CELL THAT IS BELOW THIS LINE\n",
    "\"\"\"\n",
    "tests.test_train_nn(train_neural_network)"
   ]
  },
  {
   "cell_type": "markdown",
   "metadata": {},
   "source": [
    "### Show Stats\n",
    "Implement the function `print_stats` to print loss and validation accuracy.  Use the global variables `valid_features` and `valid_labels` to calculate validation accuracy.  Use a keep probability of `1.0` to calculate the loss and validation accuracy."
   ]
  },
  {
   "cell_type": "code",
   "execution_count": 11,
   "metadata": {
    "collapsed": true
   },
   "outputs": [],
   "source": [
    "def print_stats(session, feature_batch, label_batch, cost, accuracy):\n",
    "    \"\"\"\n",
    "    Print information about loss and validation accuracy\n",
    "    : session: Current TensorFlow session\n",
    "    : feature_batch: Batch of Numpy image data\n",
    "    : label_batch: Batch of Numpy label data\n",
    "    : cost: TensorFlow cost function\n",
    "    : accuracy: TensorFlow accuracy function\n",
    "    \"\"\"\n",
    "    # TODO: Implement Function\n",
    "    # Calculate batch loss and accuracy\n",
    "    loss = session.run(cost, feed_dict={x: feature_batch, y: label_batch, keep_prob: 1.})\n",
    "    valid_acc = sess.run(accuracy, feed_dict={\n",
    "        x: valid_features,\n",
    "        y: valid_labels,\n",
    "        keep_prob: 1.})\n",
    "\n",
    "    print('Loss: {:>10.4f} Validation Accuracy: {:.6f}'.format(\n",
    "        loss,\n",
    "        valid_acc))\n",
    "    pass"
   ]
  },
  {
   "cell_type": "markdown",
   "metadata": {},
   "source": [
    "### Hyperparameters\n",
    "Tune the following parameters:\n",
    "* Set `epochs` to the number of iterations until the network stops learning or start overfitting\n",
    "* Set `batch_size` to the highest number that your machine has memory for.  Most people set them to common sizes of memory:\n",
    " * 64\n",
    " * 128\n",
    " * 256\n",
    " * ...\n",
    "* Set `keep_probability` to the probability of keeping a node using dropout"
   ]
  },
  {
   "cell_type": "code",
   "execution_count": 12,
   "metadata": {
    "collapsed": true
   },
   "outputs": [],
   "source": [
    "# TODO: Tune Parameters\n",
    "epochs = 50\n",
    "batch_size = 512\n",
    "keep_probability = .6"
   ]
  },
  {
   "cell_type": "markdown",
   "metadata": {},
   "source": [
    "### Train on a Single CIFAR-10 Batch\n",
    "Instead of training the neural network on all the CIFAR-10 batches of data, let's use a single batch. This should save time while you iterate on the model to get a better accuracy.  Once the final validation accuracy is 50% or greater, run the model on all the data in the next section."
   ]
  },
  {
   "cell_type": "code",
   "execution_count": null,
   "metadata": {},
   "outputs": [
    {
     "name": "stdout",
     "output_type": "stream",
     "text": [
      "Checking the Training on a Single Batch...\n",
      "Epoch  1, CIFAR-10 Batch 1:  Loss:     2.2840 Validation Accuracy: 0.135400\n",
      "Epoch  2, CIFAR-10 Batch 1:  Loss:     2.2338 Validation Accuracy: 0.170000\n",
      "Epoch  3, CIFAR-10 Batch 1:  Loss:     2.1478 Validation Accuracy: 0.224200\n",
      "Epoch  4, CIFAR-10 Batch 1:  Loss:     2.0305 Validation Accuracy: 0.281400\n",
      "Epoch  5, CIFAR-10 Batch 1:  Loss:     1.9225 Validation Accuracy: 0.333000\n",
      "Epoch  6, CIFAR-10 Batch 1:  Loss:     1.8264 Validation Accuracy: 0.378000\n",
      "Epoch  7, CIFAR-10 Batch 1:  Loss:     1.7281 Validation Accuracy: 0.402600\n",
      "Epoch  8, CIFAR-10 Batch 1:  Loss:     1.6431 Validation Accuracy: 0.415200\n",
      "Epoch  9, CIFAR-10 Batch 1:  Loss:     1.5704 Validation Accuracy: 0.442400\n",
      "Epoch 10, CIFAR-10 Batch 1:  Loss:     1.5099 Validation Accuracy: 0.453800\n",
      "Epoch 11, CIFAR-10 Batch 1:  Loss:     1.4639 Validation Accuracy: 0.467200\n",
      "Epoch 12, CIFAR-10 Batch 1:  Loss:     1.4182 Validation Accuracy: 0.479800\n",
      "Epoch 13, CIFAR-10 Batch 1:  Loss:     1.3691 Validation Accuracy: 0.487800\n",
      "Epoch 14, CIFAR-10 Batch 1:  Loss:     1.3535 Validation Accuracy: 0.494200\n",
      "Epoch 15, CIFAR-10 Batch 1:  Loss:     1.2974 Validation Accuracy: 0.508400\n",
      "Epoch 16, CIFAR-10 Batch 1:  Loss:     1.2650 Validation Accuracy: 0.509600\n",
      "Epoch 17, CIFAR-10 Batch 1:  Loss:     1.2230 Validation Accuracy: 0.518600\n",
      "Epoch 18, CIFAR-10 Batch 1:  Loss:     1.1914 Validation Accuracy: 0.521000\n",
      "Epoch 19, CIFAR-10 Batch 1:  Loss:     1.1815 Validation Accuracy: 0.520400\n",
      "Epoch 20, CIFAR-10 Batch 1:  Loss:     1.1123 Validation Accuracy: 0.530000\n",
      "Epoch 21, CIFAR-10 Batch 1:  Loss:     1.1012 Validation Accuracy: 0.537000\n",
      "Epoch 22, CIFAR-10 Batch 1:  Loss:     1.0545 Validation Accuracy: 0.536200\n",
      "Epoch 23, CIFAR-10 Batch 1:  Loss:     1.0425 Validation Accuracy: 0.550000\n",
      "Epoch 24, CIFAR-10 Batch 1:  Loss:     1.0158 Validation Accuracy: 0.542400\n",
      "Epoch 25, CIFAR-10 Batch 1:  Loss:     0.9809 Validation Accuracy: 0.544400\n",
      "Epoch 26, CIFAR-10 Batch 1:  Loss:     0.9731 Validation Accuracy: 0.545200\n",
      "Epoch 27, CIFAR-10 Batch 1:  Loss:     0.9417 Validation Accuracy: 0.558200\n",
      "Epoch 28, CIFAR-10 Batch 1:  Loss:     0.9275 Validation Accuracy: 0.557400\n",
      "Epoch 29, CIFAR-10 Batch 1:  Loss:     0.8937 Validation Accuracy: 0.556200\n",
      "Epoch 30, CIFAR-10 Batch 1:  Loss:     0.8584 Validation Accuracy: 0.562800\n",
      "Epoch 31, CIFAR-10 Batch 1:  Loss:     0.8258 Validation Accuracy: 0.561800\n",
      "Epoch 32, CIFAR-10 Batch 1:  Loss:     0.8474 Validation Accuracy: 0.550600\n",
      "Epoch 33, CIFAR-10 Batch 1:  Loss:     0.7890 Validation Accuracy: 0.560200\n",
      "Epoch 34, CIFAR-10 Batch 1:  Loss:     0.7734 Validation Accuracy: 0.562000\n",
      "Epoch 35, CIFAR-10 Batch 1:  Loss:     0.7424 Validation Accuracy: 0.576400\n",
      "Epoch 36, CIFAR-10 Batch 1:  Loss:     0.7220 Validation Accuracy: 0.576000\n",
      "Epoch 37, CIFAR-10 Batch 1:  Loss:     0.7232 Validation Accuracy: 0.576600\n",
      "Epoch 38, CIFAR-10 Batch 1:  Loss:     0.6698 Validation Accuracy: 0.570800\n",
      "Epoch 39, CIFAR-10 Batch 1:  Loss:     0.6731 Validation Accuracy: 0.576400\n",
      "Epoch 40, CIFAR-10 Batch 1:  Loss:     0.6417 Validation Accuracy: 0.583000\n",
      "Epoch 41, CIFAR-10 Batch 1:  Loss:     0.6205 Validation Accuracy: 0.579800\n",
      "Epoch 42, CIFAR-10 Batch 1:  Loss:     0.5955 Validation Accuracy: 0.585400\n",
      "Epoch 43, CIFAR-10 Batch 1:  Loss:     0.5758 Validation Accuracy: 0.581800\n",
      "Epoch 44, CIFAR-10 Batch 1:  Loss:     0.5646 Validation Accuracy: 0.581600\n",
      "Epoch 45, CIFAR-10 Batch 1:  Loss:     0.5137 Validation Accuracy: 0.588000\n",
      "Epoch 46, CIFAR-10 Batch 1:  Loss:     0.5327 Validation Accuracy: 0.589400\n",
      "Epoch 47, CIFAR-10 Batch 1:  Loss:     0.4968 Validation Accuracy: 0.593400\n",
      "Epoch 48, CIFAR-10 Batch 1:  Loss:     0.5059 Validation Accuracy: 0.590600\n",
      "Epoch 49, CIFAR-10 Batch 1:  Loss:     0.4955 Validation Accuracy: 0.588200\n",
      "Epoch 50, CIFAR-10 Batch 1:  Loss:     0.4928 Validation Accuracy: 0.586400\n"
     ]
    }
   ],
   "source": [
    "\"\"\"\n",
    "DON'T MODIFY ANYTHING IN THIS CELL\n",
    "\"\"\"\n",
    "print('Checking the Training on a Single Batch...')\n",
    "with tf.Session() as sess:\n",
    "    # Initializing the variables\n",
    "    sess.run(tf.global_variables_initializer())\n",
    "    \n",
    "    # Training cycle\n",
    "    for epoch in range(epochs):\n",
    "        batch_i = 1\n",
    "        for batch_features, batch_labels in helper.load_preprocess_training_batch(batch_i, batch_size):\n",
    "            train_neural_network(sess, optimizer, keep_probability, batch_features, batch_labels)\n",
    "        print('Epoch {:>2}, CIFAR-10 Batch {}:  '.format(epoch + 1, batch_i), end='')\n",
    "        print_stats(sess, batch_features, batch_labels, cost, accuracy)"
   ]
  },
  {
   "cell_type": "markdown",
   "metadata": {},
   "source": [
    "### Fully Train the Model\n",
    "Now that you got a good accuracy with a single CIFAR-10 batch, try it with all five batches."
   ]
  },
  {
   "cell_type": "code",
   "execution_count": null,
   "metadata": {
    "scrolled": false
   },
   "outputs": [
    {
     "name": "stdout",
     "output_type": "stream",
     "text": [
      "Training...\n",
      "Epoch  1, CIFAR-10 Batch 1:  Loss:     2.2917 Validation Accuracy: 0.151000\n",
      "Epoch  1, CIFAR-10 Batch 2:  Loss:     2.1453 Validation Accuracy: 0.222200\n",
      "Epoch  1, CIFAR-10 Batch 3:  Loss:     1.9463 Validation Accuracy: 0.290800\n",
      "Epoch  1, CIFAR-10 Batch 4:  Loss:     1.7218 Validation Accuracy: 0.388200\n",
      "Epoch  1, CIFAR-10 Batch 5:  Loss:     1.6704 Validation Accuracy: 0.417600\n",
      "Epoch  2, CIFAR-10 Batch 1:  Loss:     1.6958 Validation Accuracy: 0.441600\n",
      "Epoch  2, CIFAR-10 Batch 2:  Loss:     1.5469 Validation Accuracy: 0.449400\n",
      "Epoch  2, CIFAR-10 Batch 3:  Loss:     1.4202 Validation Accuracy: 0.472400\n",
      "Epoch  2, CIFAR-10 Batch 4:  Loss:     1.3552 Validation Accuracy: 0.485400\n",
      "Epoch  2, CIFAR-10 Batch 5:  Loss:     1.4318 Validation Accuracy: 0.490800\n",
      "Epoch  3, CIFAR-10 Batch 1:  Loss:     1.4712 Validation Accuracy: 0.504000\n",
      "Epoch  3, CIFAR-10 Batch 2:  Loss:     1.3400 Validation Accuracy: 0.498600\n",
      "Epoch  3, CIFAR-10 Batch 3:  Loss:     1.2392 Validation Accuracy: 0.515200\n",
      "Epoch  3, CIFAR-10 Batch 4:  Loss:     1.1963 Validation Accuracy: 0.525800\n",
      "Epoch  3, CIFAR-10 Batch 5:  Loss:     1.2905 Validation Accuracy: 0.525800\n",
      "Epoch  4, CIFAR-10 Batch 1:  Loss:     1.3271 Validation Accuracy: 0.541600\n",
      "Epoch  4, CIFAR-10 Batch 2:  Loss:     1.2272 Validation Accuracy: 0.541000\n",
      "Epoch  4, CIFAR-10 Batch 3:  Loss:     1.1278 Validation Accuracy: 0.545200\n",
      "Epoch  4, CIFAR-10 Batch 4:  Loss:     1.0937 Validation Accuracy: 0.552800\n",
      "Epoch  4, CIFAR-10 Batch 5:  Loss:     1.1670 Validation Accuracy: 0.560200\n",
      "Epoch  5, CIFAR-10 Batch 1:  Loss:     1.2307 Validation Accuracy: 0.554800\n",
      "Epoch  5, CIFAR-10 Batch 2:  Loss:     1.1279 Validation Accuracy: 0.563800\n",
      "Epoch  5, CIFAR-10 Batch 3:  Loss:     1.0747 Validation Accuracy: 0.558400\n",
      "Epoch  5, CIFAR-10 Batch 4:  Loss:     1.0162 Validation Accuracy: 0.573200\n",
      "Epoch  5, CIFAR-10 Batch 5:  Loss:     1.0863 Validation Accuracy: 0.579200\n",
      "Epoch  6, CIFAR-10 Batch 1:  Loss:     1.1591 Validation Accuracy: 0.585000\n",
      "Epoch  6, CIFAR-10 Batch 2:  Loss:     1.0785 Validation Accuracy: 0.582600\n",
      "Epoch  6, CIFAR-10 Batch 3:  Loss:     1.0060 Validation Accuracy: 0.584800\n",
      "Epoch  6, CIFAR-10 Batch 4:  Loss:     0.9434 Validation Accuracy: 0.596200\n",
      "Epoch  6, CIFAR-10 Batch 5:  Loss:     1.0029 Validation Accuracy: 0.596400\n",
      "Epoch  7, CIFAR-10 Batch 1:  Loss:     1.0849 Validation Accuracy: 0.597000\n",
      "Epoch  7, CIFAR-10 Batch 2:  Loss:     1.0322 Validation Accuracy: 0.590400\n",
      "Epoch  7, CIFAR-10 Batch 3:  Loss:     0.9434 Validation Accuracy: 0.601000\n",
      "Epoch  7, CIFAR-10 Batch 4:  Loss:     0.8968 Validation Accuracy: 0.605000\n",
      "Epoch  7, CIFAR-10 Batch 5:  Loss:     0.9521 Validation Accuracy: 0.609000\n",
      "Epoch  8, CIFAR-10 Batch 1:  Loss:     1.0239 Validation Accuracy: 0.604800\n",
      "Epoch  8, CIFAR-10 Batch 2:  Loss:     0.9696 Validation Accuracy: 0.611400\n",
      "Epoch  8, CIFAR-10 Batch 3:  Loss:     0.9116 Validation Accuracy: 0.614200\n",
      "Epoch  8, CIFAR-10 Batch 4:  Loss:     0.8484 Validation Accuracy: 0.616600\n",
      "Epoch  8, CIFAR-10 Batch 5:  Loss:     0.8935 Validation Accuracy: 0.609000\n",
      "Epoch  9, CIFAR-10 Batch 1:  Loss:     0.9678 Validation Accuracy: 0.622400\n",
      "Epoch  9, CIFAR-10 Batch 2:  Loss:     0.9087 Validation Accuracy: 0.622400\n",
      "Epoch  9, CIFAR-10 Batch 3:  Loss:     0.8701 Validation Accuracy: 0.608400\n",
      "Epoch  9, CIFAR-10 Batch 4:  Loss:     0.8132 Validation Accuracy: 0.622800\n",
      "Epoch  9, CIFAR-10 Batch 5:  Loss:     0.8742 Validation Accuracy: 0.624400\n",
      "Epoch 10, CIFAR-10 Batch 1:  Loss:     0.9249 Validation Accuracy: 0.625200\n",
      "Epoch 10, CIFAR-10 Batch 2:  Loss:     0.8817 Validation Accuracy: 0.620600\n",
      "Epoch 10, CIFAR-10 Batch 3:  Loss:     0.8207 Validation Accuracy: 0.625600\n",
      "Epoch 10, CIFAR-10 Batch 4:  Loss:     0.7784 Validation Accuracy: 0.626400\n",
      "Epoch 10, CIFAR-10 Batch 5:  Loss:     0.8328 Validation Accuracy: 0.625800\n",
      "Epoch 11, CIFAR-10 Batch 1:  Loss:     0.8923 Validation Accuracy: 0.627200\n",
      "Epoch 11, CIFAR-10 Batch 2:  Loss:     0.8726 Validation Accuracy: 0.634200\n",
      "Epoch 11, CIFAR-10 Batch 3:  Loss:     0.7778 Validation Accuracy: 0.629400\n",
      "Epoch 11, CIFAR-10 Batch 4:  Loss:     0.7726 Validation Accuracy: 0.635000\n",
      "Epoch 11, CIFAR-10 Batch 5:  Loss:     0.7867 Validation Accuracy: 0.630400\n",
      "Epoch 12, CIFAR-10 Batch 1:  Loss:     0.8491 Validation Accuracy: 0.637800\n",
      "Epoch 12, CIFAR-10 Batch 2:  Loss:     0.8146 Validation Accuracy: 0.635600\n",
      "Epoch 12, CIFAR-10 Batch 3:  Loss:     0.7590 Validation Accuracy: 0.633600\n",
      "Epoch 12, CIFAR-10 Batch 4:  Loss:     0.7412 Validation Accuracy: 0.643400\n",
      "Epoch 12, CIFAR-10 Batch 5:  Loss:     0.7484 Validation Accuracy: 0.637600\n",
      "Epoch 13, CIFAR-10 Batch 1:  Loss:     0.8271 Validation Accuracy: 0.643600\n",
      "Epoch 13, CIFAR-10 Batch 2:  Loss:     0.7930 Validation Accuracy: 0.641400\n",
      "Epoch 13, CIFAR-10 Batch 3:  Loss:     0.7199 Validation Accuracy: 0.641600\n",
      "Epoch 13, CIFAR-10 Batch 4:  Loss:     0.7284 Validation Accuracy: 0.644400\n",
      "Epoch 13, CIFAR-10 Batch 5:  Loss:     0.7414 Validation Accuracy: 0.637000\n",
      "Epoch 14, CIFAR-10 Batch 1:  Loss:     0.7983 Validation Accuracy: 0.649800\n",
      "Epoch 14, CIFAR-10 Batch 2:  Loss:     0.7764 Validation Accuracy: 0.649200\n",
      "Epoch 14, CIFAR-10 Batch 3:  Loss:     0.7266 Validation Accuracy: 0.653000\n",
      "Epoch 14, CIFAR-10 Batch 4:  Loss:     0.7144 Validation Accuracy: 0.641600\n",
      "Epoch 14, CIFAR-10 Batch 5:  Loss:     0.7034 Validation Accuracy: 0.640400\n",
      "Epoch 15, CIFAR-10 Batch 1:  Loss:     0.7817 Validation Accuracy: 0.648000\n",
      "Epoch 15, CIFAR-10 Batch 2:  Loss:     0.7499 Validation Accuracy: 0.650400\n",
      "Epoch 15, CIFAR-10 Batch 3:  Loss:     0.6790 Validation Accuracy: 0.650200\n",
      "Epoch 15, CIFAR-10 Batch 4:  Loss:     0.6697 Validation Accuracy: 0.651600\n",
      "Epoch 15, CIFAR-10 Batch 5:  Loss:     0.6702 Validation Accuracy: 0.656400\n",
      "Epoch 16, CIFAR-10 Batch 1:  Loss:     0.7500 Validation Accuracy: 0.659000\n",
      "Epoch 16, CIFAR-10 Batch 2:  Loss:     0.7229 Validation Accuracy: 0.654800\n",
      "Epoch 16, CIFAR-10 Batch 3:  Loss:     0.6478 Validation Accuracy: 0.652200\n",
      "Epoch 16, CIFAR-10 Batch 4:  Loss:     0.6572 Validation Accuracy: 0.651600\n",
      "Epoch 16, CIFAR-10 Batch 5:  Loss:     0.6623 Validation Accuracy: 0.655800\n",
      "Epoch 17, CIFAR-10 Batch 1:  Loss:     0.7202 Validation Accuracy: 0.666800\n",
      "Epoch 17, CIFAR-10 Batch 2:  Loss:     0.7002 Validation Accuracy: 0.664800\n",
      "Epoch 17, CIFAR-10 Batch 3:  Loss:     0.6208 Validation Accuracy: 0.662600\n",
      "Epoch 17, CIFAR-10 Batch 4:  Loss:     0.6184 Validation Accuracy: 0.660000\n",
      "Epoch 17, CIFAR-10 Batch 5:  Loss:     0.6157 Validation Accuracy: 0.666800\n",
      "Epoch 18, CIFAR-10 Batch 1:  Loss:     0.6931 Validation Accuracy: 0.666600\n",
      "Epoch 18, CIFAR-10 Batch 2:  Loss:     0.6737 Validation Accuracy: 0.669600\n",
      "Epoch 18, CIFAR-10 Batch 3:  Loss:     0.5924 Validation Accuracy: 0.666000\n",
      "Epoch 18, CIFAR-10 Batch 4:  Loss:     0.6080 Validation Accuracy: 0.660600\n",
      "Epoch 18, CIFAR-10 Batch 5:  Loss:     0.6092 Validation Accuracy: 0.672800\n",
      "Epoch 19, CIFAR-10 Batch 1:  Loss:     0.6858 Validation Accuracy: 0.667200\n",
      "Epoch 19, CIFAR-10 Batch 2:  Loss:     0.6416 Validation Accuracy: 0.671400\n",
      "Epoch 19, CIFAR-10 Batch 3:  Loss:     0.5687 Validation Accuracy: 0.669400\n",
      "Epoch 19, CIFAR-10 Batch 4:  Loss:     0.5800 Validation Accuracy: 0.676600\n",
      "Epoch 19, CIFAR-10 Batch 5:  Loss:     0.5797 Validation Accuracy: 0.669000\n",
      "Epoch 20, CIFAR-10 Batch 1:  Loss:     0.6606 Validation Accuracy: 0.673600\n",
      "Epoch 20, CIFAR-10 Batch 2:  Loss:     0.6270 Validation Accuracy: 0.679200\n",
      "Epoch 20, CIFAR-10 Batch 3:  Loss:     0.5600 Validation Accuracy: 0.668000\n",
      "Epoch 20, CIFAR-10 Batch 4:  Loss:     0.5711 Validation Accuracy: 0.668200\n",
      "Epoch 20, CIFAR-10 Batch 5:  Loss:     0.5513 Validation Accuracy: 0.673800\n",
      "Epoch 21, CIFAR-10 Batch 1:  Loss:     0.6228 Validation Accuracy: 0.677000\n",
      "Epoch 21, CIFAR-10 Batch 2:  Loss:     0.6021 Validation Accuracy: 0.668800\n",
      "Epoch 21, CIFAR-10 Batch 3:  Loss:     0.5324 Validation Accuracy: 0.671800\n",
      "Epoch 21, CIFAR-10 Batch 4:  Loss:     0.5336 Validation Accuracy: 0.670200\n",
      "Epoch 21, CIFAR-10 Batch 5:  Loss:     0.5287 Validation Accuracy: 0.680400\n",
      "Epoch 22, CIFAR-10 Batch 1:  Loss:     0.5891 Validation Accuracy: 0.681800\n",
      "Epoch 22, CIFAR-10 Batch 2:  Loss:     0.5396 Validation Accuracy: 0.676200\n",
      "Epoch 22, CIFAR-10 Batch 3:  Loss:     0.5047 Validation Accuracy: 0.668600\n"
     ]
    },
    {
     "name": "stdout",
     "output_type": "stream",
     "text": [
      "Epoch 22, CIFAR-10 Batch 4:  Loss:     0.5155 Validation Accuracy: 0.678400\n",
      "Epoch 22, CIFAR-10 Batch 5:  Loss:     0.5097 Validation Accuracy: 0.679200\n",
      "Epoch 23, CIFAR-10 Batch 1:  Loss:     0.5870 Validation Accuracy: 0.674600\n",
      "Epoch 23, CIFAR-10 Batch 2:  Loss:     0.5393 Validation Accuracy: 0.678400\n",
      "Epoch 23, CIFAR-10 Batch 3:  Loss:     0.4891 Validation Accuracy: 0.678600\n",
      "Epoch 23, CIFAR-10 Batch 4:  Loss:     0.5048 Validation Accuracy: 0.683000\n",
      "Epoch 23, CIFAR-10 Batch 5:  Loss:     0.4867 Validation Accuracy: 0.681800\n",
      "Epoch 24, CIFAR-10 Batch 1:  Loss:     0.5593 Validation Accuracy: 0.682600\n",
      "Epoch 24, CIFAR-10 Batch 2:  Loss:     0.5388 Validation Accuracy: 0.683800\n",
      "Epoch 24, CIFAR-10 Batch 3:  Loss:     0.4697 Validation Accuracy: 0.683000\n",
      "Epoch 24, CIFAR-10 Batch 4:  Loss:     0.4941 Validation Accuracy: 0.685600\n",
      "Epoch 24, CIFAR-10 Batch 5:  Loss:     0.4710 Validation Accuracy: 0.683000\n",
      "Epoch 25, CIFAR-10 Batch 1:  Loss:     0.5467 Validation Accuracy: 0.682800\n",
      "Epoch 25, CIFAR-10 Batch 2:  Loss:     0.5192 Validation Accuracy: 0.682400\n",
      "Epoch 25, CIFAR-10 Batch 3:  Loss:     0.4639 Validation Accuracy: 0.682400\n",
      "Epoch 25, CIFAR-10 Batch 4:  Loss:     0.4672 Validation Accuracy: 0.677800\n",
      "Epoch 25, CIFAR-10 Batch 5:  Loss:     0.4665 Validation Accuracy: 0.683600\n",
      "Epoch 26, CIFAR-10 Batch 1:  Loss:     0.4946 Validation Accuracy: 0.684400\n",
      "Epoch 26, CIFAR-10 Batch 2:  Loss:     0.4814 Validation Accuracy: 0.692800\n",
      "Epoch 26, CIFAR-10 Batch 3:  Loss:     0.4428 Validation Accuracy: 0.683800\n",
      "Epoch 26, CIFAR-10 Batch 4:  Loss:     0.4396 Validation Accuracy: 0.688200\n",
      "Epoch 26, CIFAR-10 Batch 5:  Loss:     0.4107 Validation Accuracy: 0.688400\n",
      "Epoch 27, CIFAR-10 Batch 1:  Loss:     0.4702 Validation Accuracy: 0.688200\n",
      "Epoch 27, CIFAR-10 Batch 2:  Loss:     0.4593 Validation Accuracy: 0.690000\n",
      "Epoch 27, CIFAR-10 Batch 3:  Loss:     0.4094 Validation Accuracy: 0.687400\n",
      "Epoch 27, CIFAR-10 Batch 4:  Loss:     0.4318 Validation Accuracy: 0.683200\n",
      "Epoch 27, CIFAR-10 Batch 5:  Loss:     0.3956 Validation Accuracy: 0.689400\n",
      "Epoch 28, CIFAR-10 Batch 1:  Loss:     0.4732 Validation Accuracy: 0.683600\n",
      "Epoch 28, CIFAR-10 Batch 2:  Loss:     0.4439 Validation Accuracy: 0.688000\n",
      "Epoch 28, CIFAR-10 Batch 3:  Loss:     0.4209 Validation Accuracy: 0.684600\n",
      "Epoch 28, CIFAR-10 Batch 4:  Loss:     0.4012 Validation Accuracy: 0.693000\n",
      "Epoch 28, CIFAR-10 Batch 5:  Loss:     0.3649 Validation Accuracy: 0.694400\n",
      "Loss:     0.4373 Validation Accuracy: 0.691800\n",
      "Epoch 29, CIFAR-10 Batch 2:  Loss:     0.4447 Validation Accuracy: 0.692000\n",
      "Epoch 29, CIFAR-10 Batch 3:  Loss:     0.4027 Validation Accuracy: 0.689000\n",
      "Epoch 29, CIFAR-10 Batch 4:  Loss:     0.3841 Validation Accuracy: 0.687800\n",
      "Epoch 29, CIFAR-10 Batch 5:  Loss:     0.3550 Validation Accuracy: 0.688200\n",
      "Epoch 30, CIFAR-10 Batch 1:  Loss:     0.4329 Validation Accuracy: 0.686800\n",
      "Epoch 30, CIFAR-10 Batch 2:  Loss:     0.4148 Validation Accuracy: 0.689600\n",
      "Epoch 30, CIFAR-10 Batch 3:  Loss:     0.4073 Validation Accuracy: 0.692200\n",
      "Epoch 30, CIFAR-10 Batch 4:  Loss:     0.3878 Validation Accuracy: 0.690600\n",
      "Epoch 30, CIFAR-10 Batch 5:  Loss:     0.3538 Validation Accuracy: 0.697600\n",
      "Epoch 31, CIFAR-10 Batch 1:  Loss:     0.4164 Validation Accuracy: 0.692600\n",
      "Epoch 31, CIFAR-10 Batch 2:  Loss:     0.4040 Validation Accuracy: 0.694800\n",
      "Epoch 31, CIFAR-10 Batch 3:  Loss:     0.3724 Validation Accuracy: 0.690800\n",
      "Epoch 31, CIFAR-10 Batch 4:  Loss:     0.3502 Validation Accuracy: 0.693200\n",
      "Epoch 31, CIFAR-10 Batch 5:  Loss:     0.3364 Validation Accuracy: 0.692400\n",
      "Epoch 32, CIFAR-10 Batch 1:  Loss:     0.4054 Validation Accuracy: 0.696200\n",
      "Epoch 32, CIFAR-10 Batch 2:  Loss:     0.3930 Validation Accuracy: 0.696800\n",
      "Epoch 32, CIFAR-10 Batch 3:  Loss:     0.3678 Validation Accuracy: 0.688600\n",
      "Epoch 32, CIFAR-10 Batch 4:  Loss:     0.3361 Validation Accuracy: 0.692000\n",
      "Epoch 32, CIFAR-10 Batch 5:  Loss:     0.3013 Validation Accuracy: 0.695800\n",
      "Epoch 33, CIFAR-10 Batch 1:  Loss:     0.3711 Validation Accuracy: 0.700400\n",
      "Epoch 33, CIFAR-10 Batch 2:  Loss:     0.3742 Validation Accuracy: 0.691600\n",
      "Epoch 33, CIFAR-10 Batch 3:  Loss:     0.3688 Validation Accuracy: 0.692200\n",
      "Epoch 33, CIFAR-10 Batch 4:  Loss:     0.3492 Validation Accuracy: 0.689800\n",
      "Epoch 33, CIFAR-10 Batch 5:  Loss:     0.2982 Validation Accuracy: 0.695000\n",
      "Epoch 34, CIFAR-10 Batch 1:  Loss:     0.3742 Validation Accuracy: 0.702800\n",
      "Epoch 34, CIFAR-10 Batch 2:  Loss:     0.3554 Validation Accuracy: 0.699400\n",
      "Epoch 34, CIFAR-10 Batch 3:  Loss:     0.3169 Validation Accuracy: 0.694200\n",
      "Epoch 34, CIFAR-10 Batch 4:  Loss:     0.3220 Validation Accuracy: 0.691400\n",
      "Epoch 34, CIFAR-10 Batch 5:  Loss:     0.2925 Validation Accuracy: 0.695000\n",
      "Epoch 35, CIFAR-10 Batch 1:  Loss:     0.3829 Validation Accuracy: 0.695400\n",
      "Epoch 35, CIFAR-10 Batch 2:  Loss:     0.3625 Validation Accuracy: 0.701800\n",
      "Epoch 35, CIFAR-10 Batch 3:  Loss:     0.3180 Validation Accuracy: 0.692400\n",
      "Epoch 35, CIFAR-10 Batch 4:  Loss:     0.3191 Validation Accuracy: 0.696800\n",
      "Epoch 35, CIFAR-10 Batch 5:  Loss:     0.2877 Validation Accuracy: 0.695600\n",
      "Epoch 36, CIFAR-10 Batch 1:  Loss:     0.3188 Validation Accuracy: 0.699000\n",
      "Epoch 36, CIFAR-10 Batch 2:  Loss:     0.3374 Validation Accuracy: 0.701600\n",
      "Epoch 36, CIFAR-10 Batch 3:  Loss:     0.3007 Validation Accuracy: 0.699600\n",
      "Epoch 36, CIFAR-10 Batch 4:  Loss:     0.3139 Validation Accuracy: 0.688600\n",
      "Epoch 36, CIFAR-10 Batch 5:  Loss:     0.3088 Validation Accuracy: 0.690200\n",
      "Epoch 37, CIFAR-10 Batch 1:  Loss:     0.3238 Validation Accuracy: 0.696800\n",
      "Epoch 37, CIFAR-10 Batch 2:  Loss:     0.3283 Validation Accuracy: 0.702200\n",
      "Epoch 37, CIFAR-10 Batch 3:  Loss:     0.2932 Validation Accuracy: 0.692400\n",
      "Epoch 37, CIFAR-10 Batch 4:  Loss:     0.3176 Validation Accuracy: 0.687600\n",
      "Epoch 37, CIFAR-10 Batch 5:  Loss:     0.2928 Validation Accuracy: 0.694400\n",
      "Epoch 38, CIFAR-10 Batch 1:  Loss:     0.3079 Validation Accuracy: 0.703600\n",
      "Epoch 38, CIFAR-10 Batch 2:  Loss:     0.3027 Validation Accuracy: 0.703800\n",
      "Epoch 38, CIFAR-10 Batch 3:  Loss:     0.2736 Validation Accuracy: 0.690400\n",
      "Epoch 38, CIFAR-10 Batch 4:  Loss:     0.2810 Validation Accuracy: 0.691600\n",
      "Epoch 38, CIFAR-10 Batch 5:  Loss:     0.2702 Validation Accuracy: 0.695600\n",
      "Epoch 39, CIFAR-10 Batch 1:  Loss:     0.2965 Validation Accuracy: 0.696800\n",
      "Epoch 39, CIFAR-10 Batch 2:  Loss:     0.2911 Validation Accuracy: 0.704200\n",
      "Epoch 39, CIFAR-10 Batch 3:  Loss:     0.2500 Validation Accuracy: 0.698800\n",
      "Epoch 39, CIFAR-10 Batch 4:  Loss:     0.2891 Validation Accuracy: 0.692000\n",
      "Epoch 39, CIFAR-10 Batch 5:  Loss:     0.2338 Validation Accuracy: 0.702000\n",
      "Epoch 40, CIFAR-10 Batch 1:  Loss:     0.2808 Validation Accuracy: 0.698400\n",
      "Epoch 40, CIFAR-10 Batch 2:  Loss:     0.2955 Validation Accuracy: 0.701400\n",
      "Epoch 40, CIFAR-10 Batch 3:  Loss:     0.2566 Validation Accuracy: 0.696800\n",
      "Epoch 40, CIFAR-10 Batch 4:  Loss:     0.2828 Validation Accuracy: 0.692200\n",
      "Epoch 40, CIFAR-10 Batch 5:  Loss:     0.2306 Validation Accuracy: 0.702400\n",
      "Epoch 41, CIFAR-10 Batch 1:  Loss:     0.2732 Validation Accuracy: 0.701200\n",
      "Epoch 41, CIFAR-10 Batch 2:  Loss:     0.2885 Validation Accuracy: 0.700800\n",
      "Epoch 41, CIFAR-10 Batch 3:  Loss:     0.2361 Validation Accuracy: 0.698000\n",
      "Epoch 41, CIFAR-10 Batch 4:  Loss:     0.2638 Validation Accuracy: 0.695600\n",
      "Epoch 41, CIFAR-10 Batch 5:  Loss:     0.2491 Validation Accuracy: 0.693400\n",
      "Epoch 42, CIFAR-10 Batch 1:  Loss:     0.2629 Validation Accuracy: 0.701400\n",
      "Epoch 42, CIFAR-10 Batch 2:  Loss:     0.2727 Validation Accuracy: 0.706400\n",
      "Epoch 42, CIFAR-10 Batch 3:  Loss:     0.2431 Validation Accuracy: 0.697000\n",
      "Epoch 42, CIFAR-10 Batch 4:  Loss:     0.2461 Validation Accuracy: 0.695200\n",
      "Epoch 42, CIFAR-10 Batch 5:  Loss:     0.2219 Validation Accuracy: 0.699400\n",
      "Epoch 43, CIFAR-10 Batch 1:  Loss:     0.2553 Validation Accuracy: 0.702600\n",
      "Epoch 43, CIFAR-10 Batch 2:  Loss:     0.2618 Validation Accuracy: 0.704800\n",
      "Epoch 43, CIFAR-10 Batch 3:  Loss:     0.2132 Validation Accuracy: 0.695200\n",
      "Epoch 43, CIFAR-10 Batch 4:  Loss:     0.2451 Validation Accuracy: 0.696400\n",
      "Epoch 43, CIFAR-10 Batch 5:  Loss:     0.2136 Validation Accuracy: 0.703800\n",
      "Epoch 44, CIFAR-10 Batch 1:  Loss:     0.2379 Validation Accuracy: 0.703200\n"
     ]
    },
    {
     "name": "stdout",
     "output_type": "stream",
     "text": [
      "Epoch 44, CIFAR-10 Batch 2:  Loss:     0.2464 Validation Accuracy: 0.699600\n",
      "Epoch 44, CIFAR-10 Batch 3:  Loss:     0.2015 Validation Accuracy: 0.697200\n",
      "Epoch 44, CIFAR-10 Batch 4:  Loss:     0.2343 Validation Accuracy: 0.698600\n",
      "Epoch 44, CIFAR-10 Batch 5:  Loss:     0.2214 Validation Accuracy: 0.699400\n",
      "Epoch 45, CIFAR-10 Batch 1:  Loss:     0.2316 Validation Accuracy: 0.703400\n",
      "Epoch 45, CIFAR-10 Batch 2:  Loss:     0.2324 Validation Accuracy: 0.702600\n",
      "Epoch 45, CIFAR-10 Batch 3:  Loss:     0.1881 Validation Accuracy: 0.695800\n",
      "Epoch 45, CIFAR-10 Batch 4:  Loss:     0.2329 Validation Accuracy: 0.694600\n",
      "Epoch 45, CIFAR-10 Batch 5:  Loss:     0.1970 Validation Accuracy: 0.698600\n",
      "Epoch 46, CIFAR-10 Batch 1:  Loss:     0.2205 Validation Accuracy: 0.703600\n",
      "Epoch 46, CIFAR-10 Batch 2:  Loss:     0.2506 Validation Accuracy: 0.699600\n",
      "Epoch 46, CIFAR-10 Batch 3:  Loss:     0.1981 Validation Accuracy: 0.694000\n",
      "Epoch 46, CIFAR-10 Batch 4:  Loss:     0.2039 Validation Accuracy: 0.698000\n",
      "Epoch 46, CIFAR-10 Batch 5:  Loss:     0.1807 Validation Accuracy: 0.702600\n",
      "Epoch 47, CIFAR-10 Batch 1:  Loss:     0.2125 Validation Accuracy: 0.698400\n",
      "Epoch 47, CIFAR-10 Batch 2:  Loss:     0.2383 Validation Accuracy: 0.709200\n",
      "Epoch 47, CIFAR-10 Batch 3:  Loss:     0.1694 Validation Accuracy: 0.706400\n",
      "Epoch 47, CIFAR-10 Batch 4:  Loss:     0.2117 Validation Accuracy: 0.695800\n",
      "Epoch 47, CIFAR-10 Batch 5:  Loss:     0.1727 Validation Accuracy: 0.701600\n",
      "Epoch 48, CIFAR-10 Batch 1:  Loss:     0.1964 Validation Accuracy: 0.702400\n",
      "Epoch 48, CIFAR-10 Batch 2:  Loss:     0.2151 Validation Accuracy: 0.704200\n",
      "Epoch 48, CIFAR-10 Batch 3:  Loss:     0.1725 Validation Accuracy: 0.705000\n",
      "Epoch 48, CIFAR-10 Batch 4:  Loss:     0.2283 Validation Accuracy: 0.690400\n",
      "Epoch 48, CIFAR-10 Batch 5:  Loss:     0.1707 Validation Accuracy: 0.700200\n",
      "Epoch 49, CIFAR-10 Batch 1:  Loss:     0.1888 Validation Accuracy: 0.705800\n",
      "Epoch 49, CIFAR-10 Batch 2:  Loss:     0.2207 Validation Accuracy: 0.696400\n",
      "Epoch 49, CIFAR-10 Batch 3:  Loss:     0.1630 Validation Accuracy: 0.701800\n",
      "Epoch 49, CIFAR-10 Batch 4:  Loss:     0.1942 Validation Accuracy: 0.694600\n",
      "Epoch 49, CIFAR-10 Batch 5:  Loss:     0.1532 Validation Accuracy: 0.701400\n",
      "Epoch 50, CIFAR-10 Batch 1:  Loss:     0.1905 Validation Accuracy: 0.699400\n",
      "Epoch 50, CIFAR-10 Batch 2:  Loss:     0.1960 Validation Accuracy: 0.703600\n",
      "Epoch 50, CIFAR-10 Batch 3:  Loss:     0.1537 Validation Accuracy: 0.696800\n",
      "Epoch 50, CIFAR-10 Batch 4:  Loss:     0.2016 Validation Accuracy: 0.697200\n",
      "Epoch 50, CIFAR-10 Batch 5:  Loss:     0.1556 Validation Accuracy: 0.698200\n"
     ]
    }
   ],
   "source": [
    "\"\"\"\n",
    "DON'T MODIFY ANYTHING IN THIS CELL\n",
    "\"\"\"\n",
    "save_model_path = '/output/image_classification'\n",
    "\n",
    "print('Training...')\n",
    "with tf.Session() as sess:\n",
    "    # Initializing the variables\n",
    "    sess.run(tf.global_variables_initializer())\n",
    "    \n",
    "    # Training cycle\n",
    "    for epoch in range(epochs):\n",
    "        # Loop over all batches\n",
    "        n_batches = 5\n",
    "        for batch_i in range(1, n_batches + 1):\n",
    "            for batch_features, batch_labels in helper.load_preprocess_training_batch(batch_i, batch_size):\n",
    "                train_neural_network(sess, optimizer, keep_probability, batch_features, batch_labels)\n",
    "            print('Epoch {:>2}, CIFAR-10 Batch {}:  '.format(epoch + 1, batch_i), end='')\n",
    "            print_stats(sess, batch_features, batch_labels, cost, accuracy)\n",
    "            \n",
    "    # Save Model\n",
    "    saver = tf.train.Saver()\n",
    "    save_path = saver.save(sess, save_model_path)"
   ]
  },
  {
   "cell_type": "markdown",
   "metadata": {},
   "source": [
    "# Checkpoint\n",
    "The model has been saved to disk.\n",
    "## Test Model\n",
    "Test your model against the test dataset.  This will be your final accuracy. You should have an accuracy greater than 50%. If you don't, keep tweaking the model architecture and parameters."
   ]
  },
  {
   "cell_type": "code",
   "execution_count": null,
   "metadata": {},
   "outputs": [
    {
     "name": "stdout",
     "output_type": "stream",
     "text": [
      "ended\n"
     ]
    }
   ],
   "source": [
    "print('ended')"
   ]
  },
  {
   "cell_type": "code",
   "execution_count": null,
   "metadata": {},
   "outputs": [
    {
     "name": "stdout",
     "output_type": "stream",
     "text": [
      "super_ended\n"
     ]
    }
   ],
   "source": [
    "print('super_ended')"
   ]
  },
  {
   "cell_type": "code",
   "execution_count": null,
   "metadata": {},
   "outputs": [
    {
     "name": "stdout",
     "output_type": "stream",
     "text": [
      "INFO:tensorflow:Restoring parameters from /output/image_classification\n",
      "Testing Accuracy: 0.6973575353622437\n",
      "\n"
     ]
    },
    {
     "data": {
      "image/png": "[encoded data removed]",
      "text/plain": [
       "<matplotlib.figure.Figure at 0x7f22e3960128>"
      ]
     },
     "metadata": {
      "image/png": {
       "height": 319,
       "width": 355
      }
     },
     "output_type": "display_data"
    }
   ],
   "source": [
    "\"\"\"\n",
    "DON'T MODIFY ANYTHING IN THIS CELL\n",
    "\"\"\"\n",
    "%matplotlib inline\n",
    "%config InlineBackend.figure_format = 'retina'\n",
    "\n",
    "import tensorflow as tf\n",
    "import pickle\n",
    "import helper\n",
    "import random\n",
    "\n",
    "# Set batch size if not already set\n",
    "try:\n",
    "    if batch_size:\n",
    "        pass\n",
    "except NameError:\n",
    "    batch_size = 64\n",
    "\n",
    "save_model_path = '/output/image_classification'\n",
    "n_samples = 4\n",
    "top_n_predictions = 3\n",
    "\n",
    "def test_model():\n",
    "    \"\"\"\n",
    "    Test the saved model against the test dataset\n",
    "    \"\"\"\n",
    "\n",
    "    test_features, test_labels = pickle.load(open('/input/preprocess_training.p', mode='rb'))\n",
    "    loaded_graph = tf.Graph()\n",
    "\n",
    "    with tf.Session(graph=loaded_graph) as sess:\n",
    "        # Load model\n",
    "        loader = tf.train.import_meta_graph(save_model_path + '.meta')\n",
    "        loader.restore(sess, save_model_path)\n",
    "\n",
    "        # Get Tensors from loaded model\n",
    "        loaded_x = loaded_graph.get_tensor_by_name('x:0')\n",
    "        loaded_y = loaded_graph.get_tensor_by_name('y:0')\n",
    "        loaded_keep_prob = loaded_graph.get_tensor_by_name('keep_prob:0')\n",
    "        loaded_logits = loaded_graph.get_tensor_by_name('logits:0')\n",
    "        loaded_acc = loaded_graph.get_tensor_by_name('accuracy:0')\n",
    "        \n",
    "        # Get accuracy in batches for memory limitations\n",
    "        test_batch_acc_total = 0\n",
    "        test_batch_count = 0\n",
    "        \n",
    "        for train_feature_batch, train_label_batch in helper.batch_features_labels(test_features, test_labels, batch_size):\n",
    "            test_batch_acc_total += sess.run(\n",
    "                loaded_acc,\n",
    "                feed_dict={loaded_x: train_feature_batch, loaded_y: train_label_batch, loaded_keep_prob: 1.0})\n",
    "            test_batch_count += 1\n",
    "\n",
    "        print('Testing Accuracy: {}\\n'.format(test_batch_acc_total/test_batch_count))\n",
    "\n",
    "        # Print Random Samples\n",
    "        random_test_features, random_test_labels = tuple(zip(*random.sample(list(zip(test_features, test_labels)), n_samples)))\n",
    "        random_test_predictions = sess.run(\n",
    "            tf.nn.top_k(tf.nn.softmax(loaded_logits), top_n_predictions),\n",
    "            feed_dict={loaded_x: random_test_features, loaded_y: random_test_labels, loaded_keep_prob: 1.0})\n",
    "        helper.display_image_predictions(random_test_features, random_test_labels, random_test_predictions)\n",
    "\n",
    "\n",
    "test_model()"
   ]
  },
  {
   "cell_type": "markdown",
   "metadata": {},
   "source": [
    "## Why 50-80% Accuracy?\n",
    "You might be wondering why you can't get an accuracy any higher. First things first, 50% isn't bad for a simple CNN.  Pure guessing would get you 10% accuracy. That's because there are many more techniques that can be applied to your model and we recemmond that once you are done with this project, you explore!\n",
    "\n",
    "## Submitting This Project\n",
    "When submitting this project, make sure to run all the cells before saving the notebook.  Save the notebook file as \"image_classification.ipynb\" and save it as a HTML file under \"File\" -> \"Download as\".  Include the \"helper.py\" and \"problem_unittests.py\" files in your submission."
   ]
  },
  {
   "cell_type": "code",
   "execution_count": null,
   "metadata": {
    "collapsed": true
   },
   "outputs": [],
   "source": []
  }
 ],
 "metadata": {
  "kernelspec": {
   "display_name": "Python 3",
   "language": "python",
   "name": "python3"
  },
  "language_info": {
   "codemirror_mode": {
    "name": "ipython",
    "version": 3
   },
   "file_extension": ".py",
   "mimetype": "text/x-python",
   "name": "python",
   "nbconvert_exporter": "python",
   "pygments_lexer": "ipython3",
   "version": "3.5.3"
  }
 },
 "nbformat": 4,
 "nbformat_minor": 1
}
