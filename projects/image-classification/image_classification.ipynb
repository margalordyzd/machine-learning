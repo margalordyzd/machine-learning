{
 "cells": [
  {
   "cell_type": "markdown",
   "metadata": {
    "collapsed": true
   },
   "source": [
    "# Image Classification\n",
    "In this project, you'll classify images from the [CIFAR-10 dataset](https://www.cs.toronto.edu/~kriz/cifar.html).  The dataset consists of airplanes, dogs, cats, and other objects. You'll preprocess the images, then train a convolutional neural network on all the samples. The images need to be normalized and the labels need to be one-hot encoded.  You'll get to apply what you learned and build a convolutional, max pooling, dropout, and fully connected layers.  At the end, you'll get to see your neural network's predictions on the sample images.\n",
    "## Get the Data\n",
    "Run the following cell to download the [CIFAR-10 dataset for python](https://www.cs.toronto.edu/~kriz/cifar-10-python.tar.gz)."
   ]
  },
  {
   "cell_type": "code",
   "execution_count": 2,
   "metadata": {},
   "outputs": [
    {
     "name": "stdout",
     "output_type": "stream",
     "text": [
      "All files found!\n"
     ]
    }
   ],
   "source": [
    "\"\"\"\n",
    "DON'T MODIFY ANYTHING IN THIS CELL THAT IS BELOW THIS LINE\n",
    "\"\"\"\n",
    "from urllib.request import urlretrieve\n",
    "from os.path import isfile, isdir\n",
    "from tqdm import tqdm\n",
    "import problem_unittests as tests\n",
    "import tarfile\n",
    "\n",
    "cifar10_dataset_folder_path = 'cifar-10-batches-py'\n",
    "\n",
    "class DLProgress(tqdm):\n",
    "    last_block = 0\n",
    "\n",
    "    def hook(self, block_num=1, block_size=1, total_size=None):\n",
    "        self.total = total_size\n",
    "        self.update((block_num - self.last_block) * block_size)\n",
    "        self.last_block = block_num\n",
    "\n",
    "if not isfile('cifar-10-python.tar.gz'):\n",
    "    with DLProgress(unit='B', unit_scale=True, miniters=1, desc='CIFAR-10 Dataset') as pbar:\n",
    "        urlretrieve(\n",
    "            'https://www.cs.toronto.edu/~kriz/cifar-10-python.tar.gz',\n",
    "            'cifar-10-python.tar.gz',\n",
    "            pbar.hook)\n",
    "\n",
    "if not isdir(cifar10_dataset_folder_path):\n",
    "    with tarfile.open('cifar-10-python.tar.gz') as tar:\n",
    "        tar.extractall()\n",
    "        tar.close()\n",
    "\n",
    "\n",
    "tests.test_folder_path(cifar10_dataset_folder_path)"
   ]
  },
  {
   "cell_type": "markdown",
   "metadata": {},
   "source": [
    "## Explore the Data\n",
    "The dataset is broken into batches to prevent your machine from running out of memory.  The CIFAR-10 dataset consists of 5 batches, named `data_batch_1`, `data_batch_2`, etc.. Each batch contains the labels and images that are one of the following:\n",
    "* airplane\n",
    "* automobile\n",
    "* bird\n",
    "* cat\n",
    "* deer\n",
    "* dog\n",
    "* frog\n",
    "* horse\n",
    "* ship\n",
    "* truck\n",
    "\n",
    "Understanding a dataset is part of making predictions on the data.  Play around with the code cell below by changing the `batch_id` and `sample_id`. The `batch_id` is the id for a batch (1-5). The `sample_id` is the id for a image and label pair in the batch.\n",
    "\n",
    "Ask yourself \"What are all possible labels?\", \"What is the range of values for the image data?\", \"Are the labels in order or random?\".  Answers to questions like these will help you preprocess the data and end up with better predictions."
   ]
  },
  {
   "cell_type": "code",
   "execution_count": 3,
   "metadata": {},
   "outputs": [
    {
     "name": "stdout",
     "output_type": "stream",
     "text": [
      "\n",
      "Stats of batch 5:\n",
      "Samples: 10000\n",
      "Label Counts: {0: 1014, 1: 1014, 2: 952, 3: 1016, 4: 997, 5: 1025, 6: 980, 7: 977, 8: 1003, 9: 1022}\n",
      "First 20 Labels: [1, 8, 5, 1, 5, 7, 4, 3, 8, 2, 7, 2, 0, 1, 5, 9, 6, 2, 0, 8]\n",
      "\n",
      "Example of Image 80:\n",
      "Image - Min Value: 0 Max Value: 245\n",
      "Image - Shape: (32, 32, 3)\n",
      "Label - Label Id: 9 Name: truck\n"
     ]
    },
    {
     "data": {
      "image/png": "[encoded data removed]",
      "text/plain": [
       "<matplotlib.figure.Figure at 0x7fa804f310b8>"
      ]
     },
     "metadata": {
      "image/png": {
       "height": 250,
       "width": 253
      }
     },
     "output_type": "display_data"
    }
   ],
   "source": [
    "%matplotlib inline\n",
    "%config InlineBackend.figure_format = 'retina'\n",
    "\n",
    "import helper\n",
    "import numpy as np\n",
    "\n",
    "# Explore the dataset\n",
    "batch_id = 5\n",
    "sample_id = 80\n",
    "helper.display_stats(cifar10_dataset_folder_path, batch_id, sample_id)"
   ]
  },
  {
   "cell_type": "markdown",
   "metadata": {},
   "source": [
    "## Implement Preprocess Functions\n",
    "### Normalize\n",
    "In the cell below, implement the `normalize` function to take in image data, `x`, and return it as a normalized Numpy array. The values should be in the range of 0 to 1, inclusive.  The return object should be the same shape as `x`."
   ]
  },
  {
   "cell_type": "code",
   "execution_count": 23,
   "metadata": {},
   "outputs": [
    {
     "name": "stdout",
     "output_type": "stream",
     "text": [
      "Tests Passed\n"
     ]
    }
   ],
   "source": [
    "def normalize(x):\n",
    "    \"\"\"\n",
    "    Normalize a list of sample image data in the range of 0 to 1\n",
    "    : x: List of image data.  The image shape is (32, 32, 3)\n",
    "    : return: Numpy array of normalize data\n",
    "    \"\"\"\n",
    "    # TODO: Implement Function\n",
    "    return x/255.\n",
    "\n",
    "\n",
    "\"\"\"\n",
    "DON'T MODIFY ANYTHING IN THIS CELL THAT IS BELOW THIS LINE\n",
    "\"\"\"\n",
    "tests.test_normalize(normalize)"
   ]
  },
  {
   "cell_type": "markdown",
   "metadata": {},
   "source": [
    "### One-hot encode\n",
    "Just like the previous code cell, you'll be implementing a function for preprocessing.  This time, you'll implement the `one_hot_encode` function. The input, `x`, are a list of labels.  Implement the function to return the list of labels as One-Hot encoded Numpy array.  The possible values for labels are 0 to 9. The one-hot encoding function should return the same encoding for each value between each call to `one_hot_encode`.  Make sure to save the map of encodings outside the function.\n",
    "\n",
    "**Hint:**\n",
    "\n",
    "Look into LabelBinarizer in the preprocessing module of sklearn."
   ]
  },
  {
   "cell_type": "code",
   "execution_count": 140,
   "metadata": {},
   "outputs": [
    {
     "name": "stdout",
     "output_type": "stream",
     "text": [
      "Tests Passed\n"
     ]
    }
   ],
   "source": [
    "\n",
    "def one_hot_encode(x):\n",
    "    \"\"\"\n",
    "    One hot encode a list of sample labels. Return a one-hot encoded vector for each label.\n",
    "    : x: List of sample Labels\n",
    "    : return: Numpy array of one-hot encoded labels\n",
    "    \"\"\"\n",
    "    # TODO: Implement Function\n",
    "    cathegories = [0,1,2,3,4,5,6,7,8,9]\n",
    "    x_encoded = [[1 if i == r else 0 for r in cathegories] for i in x]\n",
    "\n",
    "    return np.array(x_encoded)\n",
    "\n",
    "\n",
    "\"\"\"\n",
    "DON'T MODIFY ANYTHING IN THIS CELL THAT IS BELOW THIS LINE\n",
    "\"\"\"\n",
    "tests.test_one_hot_encode(one_hot_encode)"
   ]
  },
  {
   "cell_type": "markdown",
   "metadata": {},
   "source": [
    "### Randomize Data\n",
    "As you saw from exploring the data above, the order of the samples are randomized.  It doesn't hurt to randomize it again, but you don't need to for this dataset."
   ]
  },
  {
   "cell_type": "markdown",
   "metadata": {},
   "source": [
    "## Preprocess all the data and save it\n",
    "Running the code cell below will preprocess all the CIFAR-10 data and save it to file. The code below also uses 10% of the training data for validation."
   ]
  },
  {
   "cell_type": "code",
   "execution_count": 141,
   "metadata": {
    "collapsed": true
   },
   "outputs": [],
   "source": [
    "\"\"\"\n",
    "DON'T MODIFY ANYTHING IN THIS CELL\n",
    "\"\"\"\n",
    "# Preprocess Training, Validation, and Testing Data\n",
    "helper.preprocess_and_save_data(cifar10_dataset_folder_path, normalize, one_hot_encode)"
   ]
  },
  {
   "cell_type": "markdown",
   "metadata": {},
   "source": [
    "# Check Point\n",
    "This is your first checkpoint.  If you ever decide to come back to this notebook or have to restart the notebook, you can start from here.  The preprocessed data has been saved to disk."
   ]
  },
  {
   "cell_type": "code",
   "execution_count": 1,
   "metadata": {
    "collapsed": true
   },
   "outputs": [],
   "source": [
    "\"\"\"\n",
    "DON'T MODIFY ANYTHING IN THIS CELL\n",
    "\"\"\"\n",
    "import pickle\n",
    "import problem_unittests as tests\n",
    "import helper\n",
    "\n",
    "# Load the Preprocessed Validation data\n",
    "valid_features, valid_labels = pickle.load(open('/input/preprocess_validation.p', mode='rb'))"
   ]
  },
  {
   "cell_type": "markdown",
   "metadata": {},
   "source": [
    "## Build the network\n",
    "For the neural network, you'll build each layer into a function.  Most of the code you've seen has been outside of functions. To test your code more thoroughly, we require that you put each layer in a function.  This allows us to give you better feedback and test for simple mistakes using our unittests before you submit your project.\n",
    "\n",
    ">**Note:** If you're finding it hard to dedicate enough time for this course each week, we've provided a small shortcut to this part of the project. In the next couple of problems, you'll have the option to use classes from the [TensorFlow Layers](https://www.tensorflow.org/api_docs/python/tf/layers) or [TensorFlow Layers (contrib)](https://www.tensorflow.org/api_guides/python/contrib.layers) packages to build each layer, except the layers you build in the \"Convolutional and Max Pooling Layer\" section.  TF Layers is similar to Keras's and TFLearn's abstraction to layers, so it's easy to pickup.\n",
    "\n",
    ">However, if you would like to get the most out of this course, try to solve all the problems _without_ using anything from the TF Layers packages. You **can** still use classes from other packages that happen to have the same name as ones you find in TF Layers! For example, instead of using the TF Layers version of the `conv2d` class, [tf.layers.conv2d](https://www.tensorflow.org/api_docs/python/tf/layers/conv2d), you would want to use the TF Neural Network version of `conv2d`, [tf.nn.conv2d](https://www.tensorflow.org/api_docs/python/tf/nn/conv2d). \n",
    "\n",
    "Let's begin!\n",
    "\n",
    "### Input\n",
    "The neural network needs to read the image data, one-hot encoded labels, and dropout keep probability. Implement the following functions\n",
    "* Implement `neural_net_image_input`\n",
    " * Return a [TF Placeholder](https://www.tensorflow.org/api_docs/python/tf/placeholder)\n",
    " * Set the shape using `image_shape` with batch size set to `None`.\n",
    " * Name the TensorFlow placeholder \"x\" using the TensorFlow `name` parameter in the [TF Placeholder](https://www.tensorflow.org/api_docs/python/tf/placeholder).\n",
    "* Implement `neural_net_label_input`\n",
    " * Return a [TF Placeholder](https://www.tensorflow.org/api_docs/python/tf/placeholder)\n",
    " * Set the shape using `n_classes` with batch size set to `None`.\n",
    " * Name the TensorFlow placeholder \"y\" using the TensorFlow `name` parameter in the [TF Placeholder](https://www.tensorflow.org/api_docs/python/tf/placeholder).\n",
    "* Implement `neural_net_keep_prob_input`\n",
    " * Return a [TF Placeholder](https://www.tensorflow.org/api_docs/python/tf/placeholder) for dropout keep probability.\n",
    " * Name the TensorFlow placeholder \"keep_prob\" using the TensorFlow `name` parameter in the [TF Placeholder](https://www.tensorflow.org/api_docs/python/tf/placeholder).\n",
    "\n",
    "These names will be used at the end of the project to load your saved model.\n",
    "\n",
    "Note: `None` for shapes in TensorFlow allow for a dynamic size."
   ]
  },
  {
   "cell_type": "code",
   "execution_count": 2,
   "metadata": {
    "collapsed": true
   },
   "outputs": [],
   "source": [
    "import tensorflow as tf"
   ]
  },
  {
   "cell_type": "code",
   "execution_count": 3,
   "metadata": {},
   "outputs": [
    {
     "name": "stdout",
     "output_type": "stream",
     "text": [
      "Image Input Tests Passed.\n",
      "Label Input Tests Passed.\n",
      "Keep Prob Tests Passed.\n"
     ]
    }
   ],
   "source": [
    "import tensorflow as tf\n",
    "\n",
    "def neural_net_image_input(image_shape):\n",
    "    \"\"\"\n",
    "    Return a Tensor for a batch of image input\n",
    "    : image_shape: Shape of the images\n",
    "    : return: Tensor for image input.\n",
    "    \"\"\"\n",
    "    # TODO: Implement Function\n",
    "    return tf.placeholder(tf.float32,[None]+list(image_shape),'x')\n",
    "\n",
    "\n",
    "def neural_net_label_input(n_classes):\n",
    "    \"\"\"\n",
    "    Return a Tensor for a batch of label input\n",
    "    : n_classes: Number of classes\n",
    "    : return: Tensor for label input.\n",
    "    \"\"\"\n",
    "    # TODO: Implement Function\n",
    "    return tf.placeholder(tf.float32,[None]+[n_classes],'y')\n",
    "\n",
    "\n",
    "def neural_net_keep_prob_input():\n",
    "    \"\"\"\n",
    "    Return a Tensor for keep probability\n",
    "    : return: Tensor for keep probability.\n",
    "    \"\"\"\n",
    "    # TODO: Implement Function\n",
    "    return tf.placeholder(tf.float32,name='keep_prob')\n",
    "\n",
    "\n",
    "\"\"\"\n",
    "DON'T MODIFY ANYTHING IN THIS CELL THAT IS BELOW THIS LINE\n",
    "\"\"\"\n",
    "tf.reset_default_graph()\n",
    "tests.test_nn_image_inputs(neural_net_image_input)\n",
    "tests.test_nn_label_inputs(neural_net_label_input)\n",
    "tests.test_nn_keep_prob_inputs(neural_net_keep_prob_input)"
   ]
  },
  {
   "cell_type": "markdown",
   "metadata": {},
   "source": [
    "### Convolution and Max Pooling Layer\n",
    "Convolution layers have a lot of success with images. For this code cell, you should implement the function `conv2d_maxpool` to apply convolution then max pooling:\n",
    "* Create the weight and bias using `conv_ksize`, `conv_num_outputs` and the shape of `x_tensor`.\n",
    "* Apply a convolution to `x_tensor` using weight and `conv_strides`.\n",
    " * We recommend you use same padding, but you're welcome to use any padding.\n",
    "* Add bias\n",
    "* Add a nonlinear activation to the convolution.\n",
    "* Apply Max Pooling using `pool_ksize` and `pool_strides`.\n",
    " * We recommend you use same padding, but you're welcome to use any padding.\n",
    "\n",
    "**Note:** You **can't** use [TensorFlow Layers](https://www.tensorflow.org/api_docs/python/tf/layers) or [TensorFlow Layers (contrib)](https://www.tensorflow.org/api_guides/python/contrib.layers) for **this** layer, but you can still use TensorFlow's [Neural Network](https://www.tensorflow.org/api_docs/python/tf/nn) package. You may still use the shortcut option for all the **other** layers.\n",
    "\n",
    "** Hint: **\n",
    "\n",
    "When unpacking values as an argument in Python, look into the [unpacking](https://docs.python.org/3/tutorial/controlflow.html#unpacking-argument-lists) operator. "
   ]
  },
  {
   "cell_type": "code",
   "execution_count": 4,
   "metadata": {},
   "outputs": [
    {
     "name": "stdout",
     "output_type": "stream",
     "text": [
      "Tests Passed\n"
     ]
    }
   ],
   "source": [
    "def conv2d_maxpool(x_tensor, conv_num_outputs, conv_ksize, conv_strides, pool_ksize, pool_strides):\n",
    "    \"\"\"\n",
    "    Apply convolution then max pooling to x_tensor\n",
    "    :param x_tensor: TensorFlow Tensor\n",
    "    :param conv_num_outputs: Number of outputs for the convolutional layer\n",
    "    :param conv_ksize: kernal size 2-D Tuple for the convolutional layer\n",
    "    :param conv_strides: Stride 2-D Tuple for convolution\n",
    "    :param pool_ksize: kernal size 2-D Tuple for pool\n",
    "    :param pool_strides: Stride 2-D Tuple for pool\n",
    "    : return: A tensor that represents convolution and max pooling of x_tensor\n",
    "    \"\"\"\n",
    "    # TODO: Implement Function\n",
    "    depth = x_tensor.get_shape().as_list()\n",
    " \n",
    "    shape = list(conv_ksize + (depth[-1],) + (conv_num_outputs,))\n",
    "    \n",
    "    W = tf.Variable(tf.truncated_normal(shape,stddev=0.01))\n",
    "    b = tf.Variable(tf.zeros(conv_num_outputs))\n",
    "    x_tensor = tf.nn.conv2d(x_tensor,W, [1]+list(conv_strides)+[1],padding='SAME')\n",
    "    x_tensor = tf.nn.bias_add(x_tensor, b)\n",
    "    x_tensor = tf.nn.relu(x_tensor)\n",
    "    x_tensor = tf.nn.max_pool(x_tensor,[1]+list(conv_ksize)+[1],[1]+list(pool_strides)+[1],'SAME')\n",
    "    return x_tensor \n",
    "\n",
    "\n",
    "\"\"\"\n",
    "DON'T MODIFY ANYTHING IN THIS CELL THAT IS BELOW THIS LINE\n",
    "\"\"\"\n",
    "tests.test_con_pool(conv2d_maxpool)"
   ]
  },
  {
   "cell_type": "markdown",
   "metadata": {},
   "source": [
    "### Flatten Layer\n",
    "Implement the `flatten` function to change the dimension of `x_tensor` from a 4-D tensor to a 2-D tensor.  The output should be the shape (*Batch Size*, *Flattened Image Size*). Shortcut option: you can use classes from the [TensorFlow Layers](https://www.tensorflow.org/api_docs/python/tf/layers) or [TensorFlow Layers (contrib)](https://www.tensorflow.org/api_guides/python/contrib.layers) packages for this layer. For more of a challenge, only use other TensorFlow packages."
   ]
  },
  {
   "cell_type": "code",
   "execution_count": 5,
   "metadata": {},
   "outputs": [
    {
     "name": "stdout",
     "output_type": "stream",
     "text": [
      "Tests Passed\n"
     ]
    }
   ],
   "source": [
    "def flatten(x_tensor):\n",
    "    from numpy import prod\n",
    "    \"\"\"\n",
    "    Flatten x_tensor to (Batch Size, Flattened Image Size)\n",
    "    : x_tensor: A tensor of size (Batch Size, ...), where ... are the image dimensions.\n",
    "    : return: A tensor of size (Batch Size, Flattened Image Size).\n",
    "    \"\"\"\n",
    "    # TODO: Implement Function\n",
    "#     depth = x_tensor.get_shape().as_list()\n",
    "#     x_tensor = tf.reshape(x_tensor,[-1,prod(depth[1:])])\n",
    "    \n",
    "    return tf.contrib.layers.flatten(x_tensor)\n",
    "\n",
    "\n",
    "\"\"\"\n",
    "DON'T MODIFY ANYTHING IN THIS CELL THAT IS BELOW THIS LINE\n",
    "\"\"\"\n",
    "tests.test_flatten(flatten)"
   ]
  },
  {
   "cell_type": "markdown",
   "metadata": {},
   "source": [
    "### Fully-Connected Layer\n",
    "Implement the `fully_conn` function to apply a fully connected layer to `x_tensor` with the shape (*Batch Size*, *num_outputs*). Shortcut option: you can use classes from the [TensorFlow Layers](https://www.tensorflow.org/api_docs/python/tf/layers) or [TensorFlow Layers (contrib)](https://www.tensorflow.org/api_guides/python/contrib.layers) packages for this layer. For more of a challenge, only use other TensorFlow packages."
   ]
  },
  {
   "cell_type": "code",
   "execution_count": 6,
   "metadata": {},
   "outputs": [
    {
     "name": "stdout",
     "output_type": "stream",
     "text": [
      "Tests Passed\n"
     ]
    }
   ],
   "source": [
    "def fully_conn(x_tensor, num_outputs):\n",
    "    \"\"\"\n",
    "    Apply a fully connected layer to x_tensor using weight and bias\n",
    "    : x_tensor: A 2-D tensor where the first dimension is batch size.\n",
    "    : num_outputs: The number of output that the new tensor should be.\n",
    "    : return: A 2-D tensor where the second dimension is num_outputs.\n",
    "    \"\"\"\n",
    "#     # TODO: Implement Function\n",
    "#     depth = x_tensor.get_shape().as_list()\n",
    "#     print(depth)\n",
    "#     print(num_outputs)\n",
    "# #     W = tf.Variable(tf.random_normal(depth + num_outputs))\n",
    "#     x_tensor = tf.contrib.layers.fully_connected(x_tensor,num_outputs=num_outputs, activation_fn=tf.nn.relu,\n",
    "#                                                  biases_initializer=tf.zeros_initializer())\n",
    "    \n",
    "    \n",
    "    \n",
    "    depth = x_tensor.get_shape().as_list()\n",
    "    shape = list( (depth[-1],) + (num_outputs,))\n",
    "    #print(shape)\n",
    "    weight = tf.Variable(tf.truncated_normal(shape,stddev=0.1))\n",
    "    bias = tf.Variable(tf.zeros(num_outputs))\n",
    "    return tf.nn.relu(tf.add(tf.matmul(x_tensor,weight), bias))\n",
    "\n",
    "\n",
    "\n",
    "\"\"\"\n",
    "DON'T MODIFY ANYTHING IN THIS CELL THAT IS BELOW THIS LINE\n",
    "\"\"\"\n",
    "tests.test_fully_conn(fully_conn)"
   ]
  },
  {
   "cell_type": "markdown",
   "metadata": {},
   "source": [
    "### Output Layer\n",
    "Implement the `output` function to apply a fully connected layer to `x_tensor` with the shape (*Batch Size*, *num_outputs*). Shortcut option: you can use classes from the [TensorFlow Layers](https://www.tensorflow.org/api_docs/python/tf/layers) or [TensorFlow Layers (contrib)](https://www.tensorflow.org/api_guides/python/contrib.layers) packages for this layer. For more of a challenge, only use other TensorFlow packages.\n",
    "\n",
    "**Note:** Activation, softmax, or cross entropy should **not** be applied to this."
   ]
  },
  {
   "cell_type": "code",
   "execution_count": 7,
   "metadata": {},
   "outputs": [
    {
     "name": "stdout",
     "output_type": "stream",
     "text": [
      "Tests Passed\n"
     ]
    }
   ],
   "source": [
    "def output(x_tensor, num_outputs):\n",
    "    \"\"\"\n",
    "    Apply a output layer to x_tensor using weight and bias\n",
    "    : x_tensor: A 2-D tensor where the first dimension is batch size.\n",
    "    : num_outputs: The number of output that the new tensor should be.\n",
    "    : return: A 2-D tensor where the second dimension is num_outputs.\n",
    "    \"\"\"\n",
    "    # TODO: Implement Function\n",
    "#     x_tensor = tf.contrib.layers.fully_connected(x_tensor,num_outputs=num_outputs, activation_fn=tf.nn.relu,\n",
    "#                                                  biases_initializer=tf.zeros_initializer())\n",
    "#     return x_tensor\n",
    "    depth = x_tensor.get_shape().as_list()\n",
    "    shape = list( (depth[-1],) + (num_outputs,))\n",
    "    #print(shape)\n",
    "    weight = tf.Variable(tf.truncated_normal(shape,stddev=0.1))\n",
    "    bias = tf.Variable(tf.zeros(num_outputs))\n",
    "    return tf.nn.relu(tf.add(tf.matmul(x_tensor,weight), bias))\n",
    "\n",
    "\n",
    "\"\"\"\n",
    "DON'T MODIFY ANYTHING IN THIS CELL THAT IS BELOW THIS LINE\n",
    "\"\"\"\n",
    "tests.test_output(output)"
   ]
  },
  {
   "cell_type": "markdown",
   "metadata": {},
   "source": [
    "### Create Convolutional Model\n",
    "Implement the function `conv_net` to create a convolutional neural network model. The function takes in a batch of images, `x`, and outputs logits.  Use the layers you created above to create this model:\n",
    "\n",
    "* Apply 1, 2, or 3 Convolution and Max Pool layers\n",
    "* Apply a Flatten Layer\n",
    "* Apply 1, 2, or 3 Fully Connected Layers\n",
    "* Apply an Output Layer\n",
    "* Return the output\n",
    "* Apply [TensorFlow's Dropout](https://www.tensorflow.org/api_docs/python/tf/nn/dropout) to one or more layers in the model using `keep_prob`. "
   ]
  },
  {
   "cell_type": "code",
   "execution_count": 8,
   "metadata": {},
   "outputs": [
    {
     "name": "stdout",
     "output_type": "stream",
     "text": [
      "Neural Network Built!\n"
     ]
    }
   ],
   "source": [
    "def conv_net(x, keep_prob):\n",
    "    \"\"\"\n",
    "    Create a convolutional neural network model\n",
    "    : x: Placeholder tensor that holds image data.\n",
    "    : keep_prob: Placeholder tensor that hold dropout keep probability.\n",
    "    : return: Tensor that represents logits\n",
    "    \"\"\"\n",
    "    # TODO: Apply 1, 2, or 3 Convolution and Max Pool layers\n",
    "    #    Play around with different number of outputs, kernel size and stride\n",
    "    # Function Definition from Above:\n",
    "    #    conv2d_maxpool(x_tensor, conv_num_outputs, conv_ksize, conv_strides, pool_ksize, pool_strides)\n",
    "    x = conv2d_maxpool(x, conv_num_outputs=18, conv_ksize=(4,4), conv_strides=(1,1), pool_ksize=(8,8),\n",
    "                       pool_strides=(1,1))\n",
    "#     x = tf.nn.relu(x)\n",
    "#     x = conv2d_maxpool(x, conv_num_outputs=128, conv_ksize=(4,4), conv_strides=(1,1), pool_ksize=(4,4),\n",
    "#                        pool_strides=(2,2))\n",
    "#     x = tf.nn.relu(x)\n",
    "#     x = conv2d_maxpool(x, conv_num_outputs=256, conv_ksize=(4,4), conv_strides=(1,1), pool_ksize=(4,4),\n",
    "#                        pool_strides=(2,2))\n",
    "#     x = conv2d_maxpool(x, conv_num_outputs=18, conv_ksize=(3,3), conv_strides=(1,1), pool_ksize=(6,6),\n",
    "#                        pool_strides=(1,1))\n",
    "    x = tf.nn.dropout(x, keep_prob)\n",
    "    # TODO: Apply a Flatten Layer\n",
    "    # Function Definition from Above:\n",
    "    #   flatten(x_tensor)\n",
    "    x = flatten(x)\n",
    "\n",
    "    # TODO: Apply 1, 2, or 3 Fully Connected Layers\n",
    "    #    Play around with different number of outputs\n",
    "    # Function Definition from Above:\n",
    "    #   fully_conn(x_tensor, num_outputs)\n",
    "    x = fully_conn(x,256)\n",
    "#     x = fully_conn(x,255)\n",
    "    x = tf.nn.dropout(x, keep_prob)\n",
    "    # TODO: Apply an Output Layer\n",
    "    #    Set this to the number of classes\n",
    "    # Function Definition from Above:\n",
    "    #   output(x_tensor, num_outputs)\n",
    "    x=output(x,10)\n",
    "    \n",
    "    # TODO: return output\n",
    "    return x\n",
    "\n",
    "\n",
    "\"\"\"\n",
    "DON'T MODIFY ANYTHING IN THIS CELL THAT IS BELOW THIS LINE\n",
    "\"\"\"\n",
    "\n",
    "##############################\n",
    "## Build the Neural Network ##\n",
    "##############################\n",
    "\n",
    "# Remove previous weights, bias, inputs, etc..\n",
    "tf.reset_default_graph()\n",
    "\n",
    "# Inputs\n",
    "x = neural_net_image_input((32, 32, 3))\n",
    "y = neural_net_label_input(10)\n",
    "keep_prob = neural_net_keep_prob_input()\n",
    "\n",
    "# Model\n",
    "logits = conv_net(x, keep_prob)\n",
    "\n",
    "# Name logits Tensor, so that is can be loaded from disk after training\n",
    "logits = tf.identity(logits, name='logits')\n",
    "\n",
    "# Loss and Optimizer\n",
    "cost = tf.reduce_mean(tf.nn.softmax_cross_entropy_with_logits(logits=logits, labels=y))\n",
    "optimizer = tf.train.AdamOptimizer().minimize(cost)\n",
    "\n",
    "# Accuracy\n",
    "correct_pred = tf.equal(tf.argmax(logits, 1), tf.argmax(y, 1))\n",
    "accuracy = tf.reduce_mean(tf.cast(correct_pred, tf.float32), name='accuracy')\n",
    "\n",
    "tests.test_conv_net(conv_net)"
   ]
  },
  {
   "cell_type": "markdown",
   "metadata": {},
   "source": [
    "## Train the Neural Network\n",
    "### Single Optimization\n",
    "Implement the function `train_neural_network` to do a single optimization.  The optimization should use `optimizer` to optimize in `session` with a `feed_dict` of the following:\n",
    "* `x` for image input\n",
    "* `y` for labels\n",
    "* `keep_prob` for keep probability for dropout\n",
    "\n",
    "This function will be called for each batch, so `tf.global_variables_initializer()` has already been called.\n",
    "\n",
    "Note: Nothing needs to be returned. This function is only optimizing the neural network."
   ]
  },
  {
   "cell_type": "code",
   "execution_count": 9,
   "metadata": {},
   "outputs": [
    {
     "data": {
      "text/plain": [
       "0.0"
      ]
     },
     "execution_count": 9,
     "metadata": {},
     "output_type": "execute_result"
    }
   ],
   "source": [
    "4//80."
   ]
  },
  {
   "cell_type": "code",
   "execution_count": 10,
   "metadata": {},
   "outputs": [
    {
     "name": "stdout",
     "output_type": "stream",
     "text": [
      "Tests Passed\n"
     ]
    }
   ],
   "source": [
    "def train_neural_network(session, optimizer, keep_probability, feature_batch, label_batch):\n",
    "    \"\"\"\n",
    "    Optimize the session on a batch of images and labels\n",
    "    : session: Current TensorFlow session\n",
    "    : optimizer: TensorFlow optimizer function\n",
    "    : keep_probability: keep probability\n",
    "    : feature_batch: Batch of Numpy image data\n",
    "    : label_batch: Batch of Numpy label data\n",
    "    \"\"\"\n",
    "    # TODO: Implement Function\n",
    "    session.run(optimizer, feed_dict={x: feature_batch, y: label_batch, keep_prob: keep_probability})\n",
    "\n",
    "    \n",
    "    pass\n",
    "\n",
    "\n",
    "\"\"\"\n",
    "DON'T MODIFY ANYTHING IN THIS CELL THAT IS BELOW THIS LINE\n",
    "\"\"\"\n",
    "tests.test_train_nn(train_neural_network)"
   ]
  },
  {
   "cell_type": "markdown",
   "metadata": {},
   "source": [
    "### Show Stats\n",
    "Implement the function `print_stats` to print loss and validation accuracy.  Use the global variables `valid_features` and `valid_labels` to calculate validation accuracy.  Use a keep probability of `1.0` to calculate the loss and validation accuracy."
   ]
  },
  {
   "cell_type": "code",
   "execution_count": 11,
   "metadata": {
    "collapsed": true
   },
   "outputs": [],
   "source": [
    "def print_stats(session, feature_batch, label_batch, cost, accuracy):\n",
    "    \"\"\"\n",
    "    Print information about loss and validation accuracy\n",
    "    : session: Current TensorFlow session\n",
    "    : feature_batch: Batch of Numpy image data\n",
    "    : label_batch: Batch of Numpy label data\n",
    "    : cost: TensorFlow cost function\n",
    "    : accuracy: TensorFlow accuracy function\n",
    "    \"\"\"\n",
    "    # TODO: Implement Function\n",
    "    # Calculate batch loss and accuracy\n",
    "    loss = session.run(cost, feed_dict={x: feature_batch, y: label_batch, keep_prob: 1.})\n",
    "    valid_acc = sess.run(accuracy, feed_dict={\n",
    "        x: valid_features,\n",
    "        y: valid_labels,\n",
    "        keep_prob: 1.})\n",
    "\n",
    "    print('Loss: {:>10.4f} Validation Accuracy: {:.6f}'.format(\n",
    "        loss,\n",
    "        valid_acc))\n",
    "    pass"
   ]
  },
  {
   "cell_type": "markdown",
   "metadata": {},
   "source": [
    "### Hyperparameters\n",
    "Tune the following parameters:\n",
    "* Set `epochs` to the number of iterations until the network stops learning or start overfitting\n",
    "* Set `batch_size` to the highest number that your machine has memory for.  Most people set them to common sizes of memory:\n",
    " * 64\n",
    " * 128\n",
    " * 256\n",
    " * ...\n",
    "* Set `keep_probability` to the probability of keeping a node using dropout"
   ]
  },
  {
   "cell_type": "code",
   "execution_count": 12,
   "metadata": {
    "collapsed": true
   },
   "outputs": [],
   "source": [
    "# TODO: Tune Parameters\n",
    "epochs = 50\n",
    "batch_size = 512\n",
    "keep_probability = .3"
   ]
  },
  {
   "cell_type": "markdown",
   "metadata": {},
   "source": [
    "### Train on a Single CIFAR-10 Batch\n",
    "Instead of training the neural network on all the CIFAR-10 batches of data, let's use a single batch. This should save time while you iterate on the model to get a better accuracy.  Once the final validation accuracy is 50% or greater, run the model on all the data in the next section."
   ]
  },
  {
   "cell_type": "code",
   "execution_count": 18,
   "metadata": {},
   "outputs": [
    {
     "name": "stdout",
     "output_type": "stream",
     "text": [
      "Checking the Training on a Single Batch...\n",
      "Epoch  1, CIFAR-10 Batch 1:  Loss:     2.2936 Validation Accuracy: 0.111000\n",
      "Epoch  2, CIFAR-10 Batch 1:  Loss:     2.2078 Validation Accuracy: 0.222000\n",
      "Epoch  3, CIFAR-10 Batch 1:  Loss:     2.0857 Validation Accuracy: 0.263800\n",
      "Epoch  4, CIFAR-10 Batch 1:  Loss:     1.9320 Validation Accuracy: 0.330400\n",
      "Epoch  5, CIFAR-10 Batch 1:  Loss:     1.8441 Validation Accuracy: 0.381600\n",
      "Epoch  6, CIFAR-10 Batch 1:  Loss:     1.7761 Validation Accuracy: 0.396600\n",
      "Epoch  7, CIFAR-10 Batch 1:  Loss:     1.7119 Validation Accuracy: 0.404000\n",
      "Epoch  8, CIFAR-10 Batch 1:  Loss:     1.6701 Validation Accuracy: 0.415800\n",
      "Epoch  9, CIFAR-10 Batch 1:  Loss:     1.6497 Validation Accuracy: 0.434800\n",
      "Epoch 10, CIFAR-10 Batch 1:  Loss:     1.6188 Validation Accuracy: 0.444200\n",
      "Epoch 11, CIFAR-10 Batch 1:  Loss:     1.5764 Validation Accuracy: 0.452400\n",
      "Epoch 12, CIFAR-10 Batch 1:  Loss:     1.5699 Validation Accuracy: 0.445400\n",
      "Epoch 13, CIFAR-10 Batch 1:  Loss:     1.5471 Validation Accuracy: 0.456000\n",
      "Epoch 14, CIFAR-10 Batch 1:  Loss:     1.5271 Validation Accuracy: 0.462800\n",
      "Epoch 15, CIFAR-10 Batch 1:  Loss:     1.5085 Validation Accuracy: 0.463400\n",
      "Epoch 16, CIFAR-10 Batch 1:  Loss:     1.4894 Validation Accuracy: 0.464800\n",
      "Epoch 17, CIFAR-10 Batch 1:  Loss:     1.4676 Validation Accuracy: 0.470600\n",
      "Epoch 18, CIFAR-10 Batch 1:  Loss:     1.4189 Validation Accuracy: 0.483000\n",
      "Epoch 19, CIFAR-10 Batch 1:  Loss:     1.4008 Validation Accuracy: 0.495600\n",
      "Epoch 20, CIFAR-10 Batch 1:  Loss:     1.3670 Validation Accuracy: 0.498000\n",
      "Epoch 21, CIFAR-10 Batch 1:  Loss:     1.3445 Validation Accuracy: 0.502800\n",
      "Epoch 22, CIFAR-10 Batch 1:  Loss:     1.3263 Validation Accuracy: 0.505800\n",
      "Epoch 23, CIFAR-10 Batch 1:  Loss:     1.2976 Validation Accuracy: 0.508400\n",
      "Epoch 24, CIFAR-10 Batch 1:  Loss:     1.2838 Validation Accuracy: 0.514000\n",
      "Epoch 25, CIFAR-10 Batch 1:  Loss:     1.2786 Validation Accuracy: 0.516200\n",
      "Epoch 26, CIFAR-10 Batch 1:  Loss:     1.2909 Validation Accuracy: 0.511600\n",
      "Epoch 27, CIFAR-10 Batch 1:  Loss:     1.2460 Validation Accuracy: 0.515600\n",
      "Epoch 28, CIFAR-10 Batch 1:  Loss:     1.2494 Validation Accuracy: 0.517600\n",
      "Epoch 29, CIFAR-10 Batch 1:  Loss:     1.2177 Validation Accuracy: 0.520400\n",
      "Epoch 30, CIFAR-10 Batch 1:  Loss:     1.2072 Validation Accuracy: 0.523800\n",
      "Epoch 31, CIFAR-10 Batch 1:  Loss:     1.1936 Validation Accuracy: 0.525600\n",
      "Epoch 32, CIFAR-10 Batch 1:  Loss:     1.1873 Validation Accuracy: 0.519800\n",
      "Epoch 33, CIFAR-10 Batch 1:  Loss:     1.1787 Validation Accuracy: 0.525200\n",
      "Epoch 34, CIFAR-10 Batch 1:  Loss:     1.1667 Validation Accuracy: 0.533200\n",
      "Epoch 35, CIFAR-10 Batch 1:  Loss:     1.1517 Validation Accuracy: 0.526400\n",
      "Epoch 36, CIFAR-10 Batch 1:  Loss:     1.1402 Validation Accuracy: 0.525200\n",
      "Epoch 37, CIFAR-10 Batch 1:  Loss:     1.1320 Validation Accuracy: 0.533200\n",
      "Epoch 38, CIFAR-10 Batch 1:  Loss:     1.1281 Validation Accuracy: 0.527000\n",
      "Epoch 39, CIFAR-10 Batch 1:  Loss:     1.1189 Validation Accuracy: 0.528200\n",
      "Epoch 40, CIFAR-10 Batch 1:  Loss:     1.1130 Validation Accuracy: 0.531400\n",
      "Epoch 41, CIFAR-10 Batch 1:  Loss:     1.1052 Validation Accuracy: 0.531800\n",
      "Epoch 42, CIFAR-10 Batch 1:  Loss:     1.0925 Validation Accuracy: 0.537000\n",
      "Epoch 43, CIFAR-10 Batch 1:  Loss:     1.0828 Validation Accuracy: 0.538800\n",
      "Epoch 44, CIFAR-10 Batch 1:  Loss:     1.0824 Validation Accuracy: 0.536600\n",
      "Epoch 45, CIFAR-10 Batch 1:  Loss:     1.0905 Validation Accuracy: 0.531000\n",
      "Epoch 46, CIFAR-10 Batch 1:  Loss:     1.0683 Validation Accuracy: 0.539000\n",
      "Epoch 47, CIFAR-10 Batch 1:  Loss:     1.0502 Validation Accuracy: 0.541600\n",
      "Epoch 48, CIFAR-10 Batch 1:  Loss:     1.0574 Validation Accuracy: 0.540200\n",
      "Epoch 49, CIFAR-10 Batch 1:  Loss:     1.0729 Validation Accuracy: 0.529600\n",
      "Epoch 50, CIFAR-10 Batch 1:  Loss:     1.0381 Validation Accuracy: 0.537800\n"
     ]
    }
   ],
   "source": [
    "\"\"\"\n",
    "DON'T MODIFY ANYTHING IN THIS CELL\n",
    "\"\"\"\n",
    "print('Checking the Training on a Single Batch...')\n",
    "with tf.Session() as sess:\n",
    "    # Initializing the variables\n",
    "    sess.run(tf.global_variables_initializer())\n",
    "    \n",
    "    # Training cycle\n",
    "    for epoch in range(epochs):\n",
    "        batch_i = 1\n",
    "        for batch_features, batch_labels in helper.load_preprocess_training_batch(batch_i, batch_size):\n",
    "            train_neural_network(sess, optimizer, keep_probability, batch_features, batch_labels)\n",
    "        print('Epoch {:>2}, CIFAR-10 Batch {}:  '.format(epoch + 1, batch_i), end='')\n",
    "        print_stats(sess, batch_features, batch_labels, cost, accuracy)"
   ]
  },
  {
   "cell_type": "markdown",
   "metadata": {},
   "source": [
    "### Fully Train the Model\n",
    "Now that you got a good accuracy with a single CIFAR-10 batch, try it with all five batches."
   ]
  },
  {
   "cell_type": "code",
   "execution_count": 13,
   "metadata": {
    "scrolled": false
   },
   "outputs": [
    {
     "name": "stdout",
     "output_type": "stream",
     "text": [
      "Training...\n",
      "Epoch  1, CIFAR-10 Batch 1:  Loss:     2.2556 Validation Accuracy: 0.148800\n",
      "Epoch  1, CIFAR-10 Batch 2:  Loss:     2.1306 Validation Accuracy: 0.223600\n",
      "Epoch  1, CIFAR-10 Batch 3:  Loss:     2.0645 Validation Accuracy: 0.287400\n",
      "Epoch  1, CIFAR-10 Batch 4:  Loss:     1.8482 Validation Accuracy: 0.351600\n",
      "Epoch  1, CIFAR-10 Batch 5:  Loss:     1.8094 Validation Accuracy: 0.383600\n",
      "Epoch  2, CIFAR-10 Batch 1:  Loss:     1.8013 Validation Accuracy: 0.399200\n",
      "Epoch  2, CIFAR-10 Batch 2:  Loss:     1.6833 Validation Accuracy: 0.414200\n",
      "Epoch  2, CIFAR-10 Batch 3:  Loss:     1.5752 Validation Accuracy: 0.423200\n",
      "Epoch  2, CIFAR-10 Batch 4:  Loss:     1.5330 Validation Accuracy: 0.433800\n",
      "Epoch  2, CIFAR-10 Batch 5:  Loss:     1.6345 Validation Accuracy: 0.421600\n",
      "Epoch  3, CIFAR-10 Batch 1:  Loss:     1.6974 Validation Accuracy: 0.436600\n",
      "Epoch  3, CIFAR-10 Batch 2:  Loss:     1.5758 Validation Accuracy: 0.452400\n",
      "Epoch  3, CIFAR-10 Batch 3:  Loss:     1.4664 Validation Accuracy: 0.448200\n",
      "Epoch  3, CIFAR-10 Batch 4:  Loss:     1.4688 Validation Accuracy: 0.452200\n",
      "Epoch  3, CIFAR-10 Batch 5:  Loss:     1.5625 Validation Accuracy: 0.434000\n",
      "Epoch  4, CIFAR-10 Batch 1:  Loss:     1.6191 Validation Accuracy: 0.460000\n",
      "Epoch  4, CIFAR-10 Batch 2:  Loss:     1.5226 Validation Accuracy: 0.464600\n",
      "Epoch  4, CIFAR-10 Batch 3:  Loss:     1.4461 Validation Accuracy: 0.461200\n",
      "Epoch  4, CIFAR-10 Batch 4:  Loss:     1.4137 Validation Accuracy: 0.465400\n",
      "Epoch  4, CIFAR-10 Batch 5:  Loss:     1.4867 Validation Accuracy: 0.471800\n",
      "Epoch  5, CIFAR-10 Batch 1:  Loss:     1.5595 Validation Accuracy: 0.481000\n",
      "Epoch  5, CIFAR-10 Batch 2:  Loss:     1.4851 Validation Accuracy: 0.486000\n",
      "Epoch  5, CIFAR-10 Batch 3:  Loss:     1.3939 Validation Accuracy: 0.485200\n",
      "Epoch  5, CIFAR-10 Batch 4:  Loss:     1.3579 Validation Accuracy: 0.484000\n",
      "Epoch  5, CIFAR-10 Batch 5:  Loss:     1.4259 Validation Accuracy: 0.497400\n",
      "Epoch  6, CIFAR-10 Batch 1:  Loss:     1.5129 Validation Accuracy: 0.496600\n",
      "Epoch  6, CIFAR-10 Batch 2:  Loss:     1.4272 Validation Accuracy: 0.503400\n",
      "Epoch  6, CIFAR-10 Batch 3:  Loss:     1.3263 Validation Accuracy: 0.497400\n",
      "Epoch  6, CIFAR-10 Batch 4:  Loss:     1.2995 Validation Accuracy: 0.496200\n",
      "Epoch  6, CIFAR-10 Batch 5:  Loss:     1.4038 Validation Accuracy: 0.496000\n",
      "Epoch  7, CIFAR-10 Batch 1:  Loss:     1.4883 Validation Accuracy: 0.505000\n",
      "Epoch  7, CIFAR-10 Batch 2:  Loss:     1.3671 Validation Accuracy: 0.510200\n",
      "Epoch  7, CIFAR-10 Batch 3:  Loss:     1.3088 Validation Accuracy: 0.506600\n",
      "Epoch  7, CIFAR-10 Batch 4:  Loss:     1.2682 Validation Accuracy: 0.505000\n",
      "Epoch  7, CIFAR-10 Batch 5:  Loss:     1.3631 Validation Accuracy: 0.513400\n",
      "Epoch  8, CIFAR-10 Batch 1:  Loss:     1.4399 Validation Accuracy: 0.519000\n",
      "Epoch  8, CIFAR-10 Batch 2:  Loss:     1.3392 Validation Accuracy: 0.522400\n",
      "Epoch  8, CIFAR-10 Batch 3:  Loss:     1.2976 Validation Accuracy: 0.503400\n",
      "Epoch  8, CIFAR-10 Batch 4:  Loss:     1.2432 Validation Accuracy: 0.518400\n",
      "Epoch  8, CIFAR-10 Batch 5:  Loss:     1.3300 Validation Accuracy: 0.517600\n",
      "Epoch  9, CIFAR-10 Batch 1:  Loss:     1.4216 Validation Accuracy: 0.526800\n",
      "Epoch  9, CIFAR-10 Batch 2:  Loss:     1.3199 Validation Accuracy: 0.521400\n",
      "Epoch  9, CIFAR-10 Batch 3:  Loss:     1.2417 Validation Accuracy: 0.516400\n",
      "Epoch  9, CIFAR-10 Batch 4:  Loss:     1.2125 Validation Accuracy: 0.524600\n",
      "Epoch  9, CIFAR-10 Batch 5:  Loss:     1.3155 Validation Accuracy: 0.525600\n",
      "Epoch 10, CIFAR-10 Batch 1:  Loss:     1.3990 Validation Accuracy: 0.526200\n",
      "Epoch 10, CIFAR-10 Batch 2:  Loss:     1.2904 Validation Accuracy: 0.535600\n",
      "Epoch 10, CIFAR-10 Batch 3:  Loss:     1.2493 Validation Accuracy: 0.523800\n",
      "Epoch 10, CIFAR-10 Batch 4:  Loss:     1.1923 Validation Accuracy: 0.537000\n",
      "Epoch 10, CIFAR-10 Batch 5:  Loss:     1.2946 Validation Accuracy: 0.531600\n",
      "Epoch 11, CIFAR-10 Batch 1:  Loss:     1.3715 Validation Accuracy: 0.532000\n",
      "Epoch 11, CIFAR-10 Batch 2:  Loss:     1.2740 Validation Accuracy: 0.536200\n",
      "Epoch 11, CIFAR-10 Batch 3:  Loss:     1.2047 Validation Accuracy: 0.523200\n",
      "Epoch 11, CIFAR-10 Batch 4:  Loss:     1.1737 Validation Accuracy: 0.541600\n",
      "Epoch 11, CIFAR-10 Batch 5:  Loss:     1.2644 Validation Accuracy: 0.533000\n",
      "Epoch 12, CIFAR-10 Batch 1:  Loss:     1.3655 Validation Accuracy: 0.541600\n",
      "Epoch 12, CIFAR-10 Batch 2:  Loss:     1.2587 Validation Accuracy: 0.542000\n",
      "Epoch 12, CIFAR-10 Batch 3:  Loss:     1.2001 Validation Accuracy: 0.535200\n",
      "Epoch 12, CIFAR-10 Batch 4:  Loss:     1.1559 Validation Accuracy: 0.549000\n",
      "Epoch 12, CIFAR-10 Batch 5:  Loss:     1.2434 Validation Accuracy: 0.544600\n",
      "Epoch 13, CIFAR-10 Batch 1:  Loss:     1.3207 Validation Accuracy: 0.543600\n",
      "Epoch 13, CIFAR-10 Batch 2:  Loss:     1.2378 Validation Accuracy: 0.548200\n",
      "Epoch 13, CIFAR-10 Batch 3:  Loss:     1.1581 Validation Accuracy: 0.542600\n",
      "Epoch 13, CIFAR-10 Batch 4:  Loss:     1.1335 Validation Accuracy: 0.555600\n",
      "Epoch 13, CIFAR-10 Batch 5:  Loss:     1.2314 Validation Accuracy: 0.546400\n",
      "Epoch 14, CIFAR-10 Batch 1:  Loss:     1.3257 Validation Accuracy: 0.547200\n",
      "Epoch 14, CIFAR-10 Batch 2:  Loss:     1.2136 Validation Accuracy: 0.551000\n",
      "Epoch 14, CIFAR-10 Batch 3:  Loss:     1.1441 Validation Accuracy: 0.548400\n",
      "Epoch 14, CIFAR-10 Batch 4:  Loss:     1.1314 Validation Accuracy: 0.554200\n",
      "Epoch 14, CIFAR-10 Batch 5:  Loss:     1.2046 Validation Accuracy: 0.551800\n",
      "Epoch 15, CIFAR-10 Batch 1:  Loss:     1.2857 Validation Accuracy: 0.554400\n",
      "Epoch 15, CIFAR-10 Batch 2:  Loss:     1.1992 Validation Accuracy: 0.556000\n",
      "Epoch 15, CIFAR-10 Batch 3:  Loss:     1.1374 Validation Accuracy: 0.553200\n",
      "Epoch 15, CIFAR-10 Batch 4:  Loss:     1.1136 Validation Accuracy: 0.556600\n",
      "Epoch 15, CIFAR-10 Batch 5:  Loss:     1.2059 Validation Accuracy: 0.552000\n",
      "Epoch 16, CIFAR-10 Batch 1:  Loss:     1.2675 Validation Accuracy: 0.556600\n",
      "Epoch 16, CIFAR-10 Batch 2:  Loss:     1.1826 Validation Accuracy: 0.559800\n",
      "Epoch 16, CIFAR-10 Batch 3:  Loss:     1.1249 Validation Accuracy: 0.557800\n",
      "Epoch 16, CIFAR-10 Batch 4:  Loss:     1.0802 Validation Accuracy: 0.562400\n",
      "Epoch 16, CIFAR-10 Batch 5:  Loss:     1.1853 Validation Accuracy: 0.555400\n",
      "Epoch 17, CIFAR-10 Batch 1:  Loss:     1.2546 Validation Accuracy: 0.565000\n",
      "Epoch 17, CIFAR-10 Batch 2:  Loss:     1.1791 Validation Accuracy: 0.564600\n",
      "Epoch 17, CIFAR-10 Batch 3:  Loss:     1.1260 Validation Accuracy: 0.551600\n",
      "Epoch 17, CIFAR-10 Batch 4:  Loss:     1.0862 Validation Accuracy: 0.563800\n",
      "Epoch 17, CIFAR-10 Batch 5:  Loss:     1.1803 Validation Accuracy: 0.560200\n",
      "Epoch 18, CIFAR-10 Batch 1:  Loss:     1.2561 Validation Accuracy: 0.563800\n",
      "Epoch 18, CIFAR-10 Batch 2:  Loss:     1.1638 Validation Accuracy: 0.567000\n",
      "Epoch 18, CIFAR-10 Batch 3:  Loss:     1.0952 Validation Accuracy: 0.560800\n",
      "Epoch 18, CIFAR-10 Batch 4:  Loss:     1.0664 Validation Accuracy: 0.572000\n",
      "Epoch 18, CIFAR-10 Batch 5:  Loss:     1.1594 Validation Accuracy: 0.563200\n",
      "Epoch 19, CIFAR-10 Batch 1:  Loss:     1.2265 Validation Accuracy: 0.567800\n",
      "Epoch 19, CIFAR-10 Batch 2:  Loss:     1.1494 Validation Accuracy: 0.570000\n",
      "Epoch 19, CIFAR-10 Batch 3:  Loss:     1.0931 Validation Accuracy: 0.561200\n",
      "Epoch 19, CIFAR-10 Batch 4:  Loss:     1.0426 Validation Accuracy: 0.573200\n",
      "Epoch 19, CIFAR-10 Batch 5:  Loss:     1.1410 Validation Accuracy: 0.567400\n",
      "Epoch 20, CIFAR-10 Batch 1:  Loss:     1.2153 Validation Accuracy: 0.572200\n",
      "Epoch 20, CIFAR-10 Batch 2:  Loss:     1.1341 Validation Accuracy: 0.573000\n",
      "Epoch 20, CIFAR-10 Batch 3:  Loss:     1.0753 Validation Accuracy: 0.574200\n",
      "Epoch 20, CIFAR-10 Batch 4:  Loss:     1.0302 Validation Accuracy: 0.578800\n",
      "Epoch 20, CIFAR-10 Batch 5:  Loss:     1.1346 Validation Accuracy: 0.577000\n",
      "Epoch 21, CIFAR-10 Batch 1:  Loss:     1.2003 Validation Accuracy: 0.572400\n",
      "Epoch 21, CIFAR-10 Batch 2:  Loss:     1.1222 Validation Accuracy: 0.574400\n",
      "Epoch 21, CIFAR-10 Batch 3:  Loss:     1.0713 Validation Accuracy: 0.568200\n",
      "Epoch 21, CIFAR-10 Batch 4:  Loss:     1.0382 Validation Accuracy: 0.578200\n",
      "Epoch 21, CIFAR-10 Batch 5:  Loss:     1.1221 Validation Accuracy: 0.580000\n",
      "Epoch 22, CIFAR-10 Batch 1:  Loss:     1.2035 Validation Accuracy: 0.576400\n",
      "Epoch 22, CIFAR-10 Batch 2:  Loss:     1.1165 Validation Accuracy: 0.577800\n",
      "Epoch 22, CIFAR-10 Batch 3:  Loss:     1.0601 Validation Accuracy: 0.572400\n"
     ]
    },
    {
     "name": "stdout",
     "output_type": "stream",
     "text": [
      "Epoch 22, CIFAR-10 Batch 4:  Loss:     1.0151 Validation Accuracy: 0.579600\n",
      "Epoch 22, CIFAR-10 Batch 5:  Loss:     1.1027 Validation Accuracy: 0.579400\n",
      "Epoch 23, CIFAR-10 Batch 1:  Loss:     1.1812 Validation Accuracy: 0.580200\n",
      "Epoch 23, CIFAR-10 Batch 2:  Loss:     1.1087 Validation Accuracy: 0.581800\n",
      "Epoch 23, CIFAR-10 Batch 3:  Loss:     1.0680 Validation Accuracy: 0.563200\n",
      "Epoch 23, CIFAR-10 Batch 4:  Loss:     0.9971 Validation Accuracy: 0.586200\n",
      "Epoch 23, CIFAR-10 Batch 5:  Loss:     1.1043 Validation Accuracy: 0.577600\n",
      "Epoch 24, CIFAR-10 Batch 1:  Loss:     1.1767 Validation Accuracy: 0.585400\n",
      "Epoch 24, CIFAR-10 Batch 2:  Loss:     1.0927 Validation Accuracy: 0.582800\n",
      "Epoch 24, CIFAR-10 Batch 3:  Loss:     1.0515 Validation Accuracy: 0.578800\n",
      "Epoch 24, CIFAR-10 Batch 4:  Loss:     0.9987 Validation Accuracy: 0.590000\n",
      "Epoch 24, CIFAR-10 Batch 5:  Loss:     1.0799 Validation Accuracy: 0.587600\n",
      "Epoch 25, CIFAR-10 Batch 1:  Loss:     1.1643 Validation Accuracy: 0.586400\n",
      "Epoch 25, CIFAR-10 Batch 2:  Loss:     1.0899 Validation Accuracy: 0.588000\n",
      "Epoch 25, CIFAR-10 Batch 3:  Loss:     1.0611 Validation Accuracy: 0.574600\n",
      "Epoch 25, CIFAR-10 Batch 4:  Loss:     1.0005 Validation Accuracy: 0.585000\n",
      "Epoch 25, CIFAR-10 Batch 5:  Loss:     1.0841 Validation Accuracy: 0.583400\n",
      "Epoch 26, CIFAR-10 Batch 1:  Loss:     1.1555 Validation Accuracy: 0.593000\n",
      "Epoch 26, CIFAR-10 Batch 2:  Loss:     1.0799 Validation Accuracy: 0.589200\n",
      "Epoch 26, CIFAR-10 Batch 3:  Loss:     1.0327 Validation Accuracy: 0.582600\n",
      "Epoch 26, CIFAR-10 Batch 4:  Loss:     0.9815 Validation Accuracy: 0.589800\n",
      "Epoch 26, CIFAR-10 Batch 5:  Loss:     1.0861 Validation Accuracy: 0.581000\n",
      "Epoch 27, CIFAR-10 Batch 1:  Loss:     1.1450 Validation Accuracy: 0.588400\n",
      "Epoch 27, CIFAR-10 Batch 2:  Loss:     1.0846 Validation Accuracy: 0.590600\n",
      "Epoch 27, CIFAR-10 Batch 3:  Loss:     1.0282 Validation Accuracy: 0.586600\n",
      "Epoch 27, CIFAR-10 Batch 4:  Loss:     0.9695 Validation Accuracy: 0.593400\n",
      "Epoch 27, CIFAR-10 Batch 5:  Loss:     1.0605 Validation Accuracy: 0.593600\n",
      "Epoch 28, CIFAR-10 Batch 1:  Loss:     1.1239 Validation Accuracy: 0.592600\n",
      "Epoch 28, CIFAR-10 Batch 2:  Loss:     1.0788 Validation Accuracy: 0.586600\n",
      "Epoch 28, CIFAR-10 Batch 3:  Loss:     1.0308 Validation Accuracy: 0.582800\n",
      "Epoch 28, CIFAR-10 Batch 4:  Loss:     0.9699 Validation Accuracy: 0.588400\n",
      "Epoch 28, CIFAR-10 Batch 5:  Loss:     1.0600 Validation Accuracy: 0.586800\n",
      "Epoch 29, CIFAR-10 Batch 1:  Loss:     1.1186 Validation Accuracy: 0.588600\n",
      "Epoch 29, CIFAR-10 Batch 2:  Loss:     1.0666 Validation Accuracy: 0.591400\n",
      "Epoch 29, CIFAR-10 Batch 3:  Loss:     1.0359 Validation Accuracy: 0.578600\n",
      "Epoch 29, CIFAR-10 Batch 4:  Loss:     0.9612 Validation Accuracy: 0.592800\n",
      "Epoch 29, CIFAR-10 Batch 5:  Loss:     1.0560 Validation Accuracy: 0.583400\n",
      "Epoch 30, CIFAR-10 Batch 1:  Loss:     1.1138 Validation Accuracy: 0.596600\n",
      "Epoch 30, CIFAR-10 Batch 2:  Loss:     1.0499 Validation Accuracy: 0.598400\n",
      "Epoch 30, CIFAR-10 Batch 3:  Loss:     1.0083 Validation Accuracy: 0.588200\n",
      "Epoch 30, CIFAR-10 Batch 4:  Loss:     0.9426 Validation Accuracy: 0.602400\n",
      "Epoch 30, CIFAR-10 Batch 5:  Loss:     1.0261 Validation Accuracy: 0.594400\n",
      "Epoch 31, CIFAR-10 Batch 1:  Loss:     1.1119 Validation Accuracy: 0.594600\n",
      "Epoch 31, CIFAR-10 Batch 2:  Loss:     1.0412 Validation Accuracy: 0.595400\n",
      "Epoch 31, CIFAR-10 Batch 3:  Loss:     1.0060 Validation Accuracy: 0.586600\n",
      "Epoch 31, CIFAR-10 Batch 4:  Loss:     0.9337 Validation Accuracy: 0.600000\n",
      "Epoch 31, CIFAR-10 Batch 5:  Loss:     1.0097 Validation Accuracy: 0.599200\n",
      "Epoch 32, CIFAR-10 Batch 1:  Loss:     1.1069 Validation Accuracy: 0.595000\n",
      "Epoch 32, CIFAR-10 Batch 2:  Loss:     1.0394 Validation Accuracy: 0.600600\n",
      "Epoch 32, CIFAR-10 Batch 3:  Loss:     1.0152 Validation Accuracy: 0.582600\n",
      "Epoch 32, CIFAR-10 Batch 4:  Loss:     0.9461 Validation Accuracy: 0.596200\n",
      "Epoch 32, CIFAR-10 Batch 5:  Loss:     1.0382 Validation Accuracy: 0.588600\n",
      "Epoch 33, CIFAR-10 Batch 1:  Loss:     1.0879 Validation Accuracy: 0.594000\n",
      "Epoch 33, CIFAR-10 Batch 2:  Loss:     1.0270 Validation Accuracy: 0.592800\n",
      "Epoch 33, CIFAR-10 Batch 3:  Loss:     0.9986 Validation Accuracy: 0.595200\n",
      "Epoch 33, CIFAR-10 Batch 4:  Loss:     0.9348 Validation Accuracy: 0.601800\n",
      "Epoch 33, CIFAR-10 Batch 5:  Loss:     1.0164 Validation Accuracy: 0.595800\n",
      "Epoch 34, CIFAR-10 Batch 1:  Loss:     1.0821 Validation Accuracy: 0.597400\n",
      "Epoch 34, CIFAR-10 Batch 2:  Loss:     1.0159 Validation Accuracy: 0.599000\n",
      "Epoch 34, CIFAR-10 Batch 3:  Loss:     0.9998 Validation Accuracy: 0.582800\n",
      "Epoch 34, CIFAR-10 Batch 4:  Loss:     0.9270 Validation Accuracy: 0.599200\n",
      "Epoch 34, CIFAR-10 Batch 5:  Loss:     1.0341 Validation Accuracy: 0.581400\n",
      "Epoch 35, CIFAR-10 Batch 1:  Loss:     1.0780 Validation Accuracy: 0.599600\n",
      "Epoch 35, CIFAR-10 Batch 2:  Loss:     1.0186 Validation Accuracy: 0.602800\n",
      "Epoch 35, CIFAR-10 Batch 3:  Loss:     1.0051 Validation Accuracy: 0.583800\n",
      "Epoch 35, CIFAR-10 Batch 4:  Loss:     0.9184 Validation Accuracy: 0.602600\n",
      "Epoch 35, CIFAR-10 Batch 5:  Loss:     1.0031 Validation Accuracy: 0.591800\n",
      "Epoch 36, CIFAR-10 Batch 1:  Loss:     1.0635 Validation Accuracy: 0.598000\n",
      "Epoch 36, CIFAR-10 Batch 2:  Loss:     1.0050 Validation Accuracy: 0.605800\n",
      "Epoch 36, CIFAR-10 Batch 3:  Loss:     0.9871 Validation Accuracy: 0.592000\n",
      "Epoch 36, CIFAR-10 Batch 4:  Loss:     0.9120 Validation Accuracy: 0.602600\n",
      "Epoch 36, CIFAR-10 Batch 5:  Loss:     0.9864 Validation Accuracy: 0.597000\n",
      "Epoch 37, CIFAR-10 Batch 1:  Loss:     1.0645 Validation Accuracy: 0.595400\n",
      "Epoch 37, CIFAR-10 Batch 2:  Loss:     0.9990 Validation Accuracy: 0.599600\n",
      "Epoch 37, CIFAR-10 Batch 3:  Loss:     0.9766 Validation Accuracy: 0.593400\n",
      "Epoch 37, CIFAR-10 Batch 4:  Loss:     0.9143 Validation Accuracy: 0.605800\n",
      "Epoch 37, CIFAR-10 Batch 5:  Loss:     0.9910 Validation Accuracy: 0.600600\n",
      "Epoch 38, CIFAR-10 Batch 1:  Loss:     1.0666 Validation Accuracy: 0.594600\n",
      "Epoch 38, CIFAR-10 Batch 2:  Loss:     1.0399 Validation Accuracy: 0.585800\n",
      "Epoch 38, CIFAR-10 Batch 3:  Loss:     0.9775 Validation Accuracy: 0.595000\n",
      "Epoch 38, CIFAR-10 Batch 4:  Loss:     0.8981 Validation Accuracy: 0.604600\n",
      "Epoch 38, CIFAR-10 Batch 5:  Loss:     0.9705 Validation Accuracy: 0.605400\n",
      "Epoch 39, CIFAR-10 Batch 1:  Loss:     1.0477 Validation Accuracy: 0.598600\n",
      "Epoch 39, CIFAR-10 Batch 2:  Loss:     1.0347 Validation Accuracy: 0.580400\n",
      "Epoch 39, CIFAR-10 Batch 3:  Loss:     0.9792 Validation Accuracy: 0.598000\n",
      "Epoch 39, CIFAR-10 Batch 4:  Loss:     0.8934 Validation Accuracy: 0.609000\n",
      "Epoch 39, CIFAR-10 Batch 5:  Loss:     0.9611 Validation Accuracy: 0.604000\n",
      "Epoch 40, CIFAR-10 Batch 1:  Loss:     1.0718 Validation Accuracy: 0.590200\n",
      "Epoch 40, CIFAR-10 Batch 2:  Loss:     1.0350 Validation Accuracy: 0.583000\n",
      "Epoch 40, CIFAR-10 Batch 3:  Loss:     0.9710 Validation Accuracy: 0.602200\n",
      "Epoch 40, CIFAR-10 Batch 4:  Loss:     0.8925 Validation Accuracy: 0.607400\n",
      "Epoch 40, CIFAR-10 Batch 5:  Loss:     0.9635 Validation Accuracy: 0.602000\n",
      "Epoch 41, CIFAR-10 Batch 1:  Loss:     1.0414 Validation Accuracy: 0.601600\n",
      "Epoch 41, CIFAR-10 Batch 2:  Loss:     1.0126 Validation Accuracy: 0.586600\n",
      "Epoch 41, CIFAR-10 Batch 3:  Loss:     0.9792 Validation Accuracy: 0.598600\n",
      "Epoch 41, CIFAR-10 Batch 4:  Loss:     0.9157 Validation Accuracy: 0.598000\n",
      "Epoch 41, CIFAR-10 Batch 5:  Loss:     0.9665 Validation Accuracy: 0.607000\n",
      "Epoch 42, CIFAR-10 Batch 1:  Loss:     1.0257 Validation Accuracy: 0.604800\n",
      "Epoch 42, CIFAR-10 Batch 2:  Loss:     1.0028 Validation Accuracy: 0.589400\n",
      "Epoch 42, CIFAR-10 Batch 3:  Loss:     0.9604 Validation Accuracy: 0.600800\n",
      "Epoch 42, CIFAR-10 Batch 4:  Loss:     0.8846 Validation Accuracy: 0.606200\n",
      "Epoch 42, CIFAR-10 Batch 5:  Loss:     0.9579 Validation Accuracy: 0.599600\n",
      "Epoch 43, CIFAR-10 Batch 1:  Loss:     1.0254 Validation Accuracy: 0.604200\n",
      "Epoch 43, CIFAR-10 Batch 2:  Loss:     1.0022 Validation Accuracy: 0.586600\n",
      "Epoch 43, CIFAR-10 Batch 3:  Loss:     0.9423 Validation Accuracy: 0.603600\n",
      "Epoch 43, CIFAR-10 Batch 4:  Loss:     0.8690 Validation Accuracy: 0.606200\n",
      "Epoch 43, CIFAR-10 Batch 5:  Loss:     0.9484 Validation Accuracy: 0.603000\n",
      "Epoch 44, CIFAR-10 Batch 1:  Loss:     1.0404 Validation Accuracy: 0.594400\n"
     ]
    },
    {
     "name": "stdout",
     "output_type": "stream",
     "text": [
      "Epoch 44, CIFAR-10 Batch 2:  Loss:     0.9839 Validation Accuracy: 0.600000\n",
      "Epoch 44, CIFAR-10 Batch 3:  Loss:     0.9391 Validation Accuracy: 0.605200\n",
      "Epoch 44, CIFAR-10 Batch 4:  Loss:     0.8740 Validation Accuracy: 0.610400\n",
      "Epoch 44, CIFAR-10 Batch 5:  Loss:     0.9427 Validation Accuracy: 0.608600\n",
      "Epoch 45, CIFAR-10 Batch 1:  Loss:     1.0196 Validation Accuracy: 0.603800\n",
      "Epoch 45, CIFAR-10 Batch 2:  Loss:     0.9855 Validation Accuracy: 0.592200\n",
      "Epoch 45, CIFAR-10 Batch 3:  Loss:     0.9475 Validation Accuracy: 0.603000\n",
      "Epoch 45, CIFAR-10 Batch 4:  Loss:     0.8728 Validation Accuracy: 0.603200\n",
      "Epoch 45, CIFAR-10 Batch 5:  Loss:     0.9293 Validation Accuracy: 0.609000\n",
      "Epoch 46, CIFAR-10 Batch 1:  Loss:     1.0047 Validation Accuracy: 0.608400\n",
      "Epoch 46, CIFAR-10 Batch 2:  Loss:     0.9714 Validation Accuracy: 0.600400\n",
      "Epoch 46, CIFAR-10 Batch 3:  Loss:     0.9297 Validation Accuracy: 0.607800\n",
      "Epoch 46, CIFAR-10 Batch 4:  Loss:     0.8657 Validation Accuracy: 0.612000\n",
      "Epoch 46, CIFAR-10 Batch 5:  Loss:     0.9127 Validation Accuracy: 0.615200\n",
      "Epoch 47, CIFAR-10 Batch 1:  Loss:     0.9958 Validation Accuracy: 0.608200\n",
      "Epoch 47, CIFAR-10 Batch 2:  Loss:     0.9543 Validation Accuracy: 0.607600\n",
      "Epoch 47, CIFAR-10 Batch 3:  Loss:     0.9270 Validation Accuracy: 0.608200\n",
      "Epoch 47, CIFAR-10 Batch 4:  Loss:     0.8775 Validation Accuracy: 0.603400\n",
      "Epoch 47, CIFAR-10 Batch 5:  Loss:     0.9110 Validation Accuracy: 0.606400\n",
      "Epoch 48, CIFAR-10 Batch 1:  Loss:     1.0041 Validation Accuracy: 0.605000\n",
      "Epoch 48, CIFAR-10 Batch 2:  Loss:     0.9553 Validation Accuracy: 0.598200\n",
      "Epoch 48, CIFAR-10 Batch 3:  Loss:     0.9353 Validation Accuracy: 0.601200\n",
      "Epoch 48, CIFAR-10 Batch 4:  Loss:     0.8564 Validation Accuracy: 0.610800\n",
      "Epoch 48, CIFAR-10 Batch 5:  Loss:     0.9300 Validation Accuracy: 0.604600\n",
      "Epoch 49, CIFAR-10 Batch 1:  Loss:     0.9761 Validation Accuracy: 0.612400\n",
      "Epoch 49, CIFAR-10 Batch 2:  Loss:     0.9426 Validation Accuracy: 0.609200\n",
      "Epoch 49, CIFAR-10 Batch 3:  Loss:     0.9193 Validation Accuracy: 0.608600\n",
      "Epoch 49, CIFAR-10 Batch 4:  Loss:     0.8432 Validation Accuracy: 0.615200\n",
      "Epoch 49, CIFAR-10 Batch 5:  Loss:     0.8936 Validation Accuracy: 0.617000\n",
      "Epoch 50, CIFAR-10 Batch 1:  Loss:     0.9821 Validation Accuracy: 0.609000\n",
      "Epoch 50, CIFAR-10 Batch 2:  Loss:     0.9427 Validation Accuracy: 0.603400\n",
      "Epoch 50, CIFAR-10 Batch 3:  Loss:     0.9090 Validation Accuracy: 0.612000\n",
      "Epoch 50, CIFAR-10 Batch 4:  Loss:     0.8465 Validation Accuracy: 0.620000\n",
      "Epoch 50, CIFAR-10 Batch 5:  Loss:     0.8956 Validation Accuracy: 0.618200\n"
     ]
    }
   ],
   "source": [
    "\"\"\"\n",
    "DON'T MODIFY ANYTHING IN THIS CELL\n",
    "\"\"\"\n",
    "save_model_path = '/output/image_classification'\n",
    "\n",
    "print('Training...')\n",
    "with tf.Session() as sess:\n",
    "    # Initializing the variables\n",
    "    sess.run(tf.global_variables_initializer())\n",
    "    \n",
    "    # Training cycle\n",
    "    for epoch in range(epochs):\n",
    "        # Loop over all batches\n",
    "        n_batches = 5\n",
    "        for batch_i in range(1, n_batches + 1):\n",
    "            for batch_features, batch_labels in helper.load_preprocess_training_batch(batch_i, batch_size):\n",
    "                train_neural_network(sess, optimizer, keep_probability, batch_features, batch_labels)\n",
    "            print('Epoch {:>2}, CIFAR-10 Batch {}:  '.format(epoch + 1, batch_i), end='')\n",
    "            print_stats(sess, batch_features, batch_labels, cost, accuracy)\n",
    "            \n",
    "    # Save Model\n",
    "    saver = tf.train.Saver()\n",
    "    save_path = saver.save(sess, save_model_path)"
   ]
  },
  {
   "cell_type": "markdown",
   "metadata": {},
   "source": [
    "# Checkpoint\n",
    "The model has been saved to disk.\n",
    "## Test Model\n",
    "Test your model against the test dataset.  This will be your final accuracy. You should have an accuracy greater than 50%. If you don't, keep tweaking the model architecture and parameters."
   ]
  },
  {
   "cell_type": "code",
   "execution_count": 14,
   "metadata": {},
   "outputs": [
    {
     "name": "stdout",
     "output_type": "stream",
     "text": [
      "ended\n"
     ]
    }
   ],
   "source": [
    "print('ended')"
   ]
  },
  {
   "cell_type": "code",
   "execution_count": 15,
   "metadata": {},
   "outputs": [
    {
     "name": "stdout",
     "output_type": "stream",
     "text": [
      "super_ended\n"
     ]
    }
   ],
   "source": [
    "print('super_ended')"
   ]
  },
  {
   "cell_type": "code",
   "execution_count": 16,
   "metadata": {},
   "outputs": [
    {
     "name": "stdout",
     "output_type": "stream",
     "text": [
      "INFO:tensorflow:Restoring parameters from /output/image_classification\n",
      "Testing Accuracy: 0.6142003685235977\n",
      "\n"
     ]
    },
    {
     "data": {
      "image/png": "[encoded data removed]",
      "text/plain": [
       "<matplotlib.figure.Figure at 0x7f9427449a58>"
      ]
     },
     "metadata": {
      "image/png": {
       "height": 319,
       "width": 355
      }
     },
     "output_type": "display_data"
    }
   ],
   "source": [
    "\"\"\"\n",
    "DON'T MODIFY ANYTHING IN THIS CELL\n",
    "\"\"\"\n",
    "%matplotlib inline\n",
    "%config InlineBackend.figure_format = 'retina'\n",
    "\n",
    "import tensorflow as tf\n",
    "import pickle\n",
    "import helper\n",
    "import random\n",
    "\n",
    "# Set batch size if not already set\n",
    "try:\n",
    "    if batch_size:\n",
    "        pass\n",
    "except NameError:\n",
    "    batch_size = 64\n",
    "\n",
    "save_model_path = '/output/image_classification'\n",
    "n_samples = 4\n",
    "top_n_predictions = 3\n",
    "\n",
    "def test_model():\n",
    "    \"\"\"\n",
    "    Test the saved model against the test dataset\n",
    "    \"\"\"\n",
    "\n",
    "    test_features, test_labels = pickle.load(open('/input/preprocess_training.p', mode='rb'))\n",
    "    loaded_graph = tf.Graph()\n",
    "\n",
    "    with tf.Session(graph=loaded_graph) as sess:\n",
    "        # Load model\n",
    "        loader = tf.train.import_meta_graph(save_model_path + '.meta')\n",
    "        loader.restore(sess, save_model_path)\n",
    "\n",
    "        # Get Tensors from loaded model\n",
    "        loaded_x = loaded_graph.get_tensor_by_name('x:0')\n",
    "        loaded_y = loaded_graph.get_tensor_by_name('y:0')\n",
    "        loaded_keep_prob = loaded_graph.get_tensor_by_name('keep_prob:0')\n",
    "        loaded_logits = loaded_graph.get_tensor_by_name('logits:0')\n",
    "        loaded_acc = loaded_graph.get_tensor_by_name('accuracy:0')\n",
    "        \n",
    "        # Get accuracy in batches for memory limitations\n",
    "        test_batch_acc_total = 0\n",
    "        test_batch_count = 0\n",
    "        \n",
    "        for train_feature_batch, train_label_batch in helper.batch_features_labels(test_features, test_labels, batch_size):\n",
    "            test_batch_acc_total += sess.run(\n",
    "                loaded_acc,\n",
    "                feed_dict={loaded_x: train_feature_batch, loaded_y: train_label_batch, loaded_keep_prob: 1.0})\n",
    "            test_batch_count += 1\n",
    "\n",
    "        print('Testing Accuracy: {}\\n'.format(test_batch_acc_total/test_batch_count))\n",
    "\n",
    "        # Print Random Samples\n",
    "        random_test_features, random_test_labels = tuple(zip(*random.sample(list(zip(test_features, test_labels)), n_samples)))\n",
    "        random_test_predictions = sess.run(\n",
    "            tf.nn.top_k(tf.nn.softmax(loaded_logits), top_n_predictions),\n",
    "            feed_dict={loaded_x: random_test_features, loaded_y: random_test_labels, loaded_keep_prob: 1.0})\n",
    "        helper.display_image_predictions(random_test_features, random_test_labels, random_test_predictions)\n",
    "\n",
    "\n",
    "test_model()"
   ]
  },
  {
   "cell_type": "markdown",
   "metadata": {},
   "source": [
    "## Why 50-80% Accuracy?\n",
    "You might be wondering why you can't get an accuracy any higher. First things first, 50% isn't bad for a simple CNN.  Pure guessing would get you 10% accuracy. That's because there are many more techniques that can be applied to your model and we recemmond that once you are done with this project, you explore!\n",
    "\n",
    "## Submitting This Project\n",
    "When submitting this project, make sure to run all the cells before saving the notebook.  Save the notebook file as \"image_classification.ipynb\" and save it as a HTML file under \"File\" -> \"Download as\".  Include the \"helper.py\" and \"problem_unittests.py\" files in your submission."
   ]
  }
 ],
 "metadata": {
  "kernelspec": {
   "display_name": "Python 3",
   "language": "python",
   "name": "python3"
  },
  "language_info": {
   "codemirror_mode": {
    "name": "ipython",
    "version": 3
   },
   "file_extension": ".py",
   "mimetype": "text/x-python",
   "name": "python",
   "nbconvert_exporter": "python",
   "pygments_lexer": "ipython3",
   "version": "3.5.3"
  }
 },
 "nbformat": 4,
 "nbformat_minor": 1
}
